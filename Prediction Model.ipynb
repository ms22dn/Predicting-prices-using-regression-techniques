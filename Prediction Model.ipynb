{
 "cells": [
  {
   "cell_type": "markdown",
   "metadata": {},
   "source": [
    "# Price Prediction using Regression"
   ]
  },
  {
   "cell_type": "markdown",
   "metadata": {},
   "source": [
    "This is a tickets pricing monitoring system. It scrapes tickets pricing data periodically and stores it in a database. Ticket pricing changes based on demand and time, and there can be significant difference in price. We are creating this product mainly with ourselves in mind. Users can set up alarms using an email, choosing an origin and destination (cities), time (date and hour range picker) choosing a price reduction over mean price, etc."
   ]
  },
  {
   "cell_type": "markdown",
   "metadata": {},
   "source": [
    "**Following is the description for columns in the dataset**<br>\n",
    "- insert_date: date and time when the price was collected and written in the database<br>\n",
    "- origin: origin city <br>\n",
    "- destination: destination city <br>\n",
    "- start_date: train departure time<br>\n",
    "- end_date: train arrival time<br>\n",
    "- train_type: train service name<br>\n",
    "- price: price<br>\n",
    "- train_class: ticket class, tourist, business, etc.<br>\n",
    "- fare: ticket fare, round trip, etc <br>"
   ]
  },
  {
   "cell_type": "code",
   "execution_count": 1,
   "metadata": {},
   "outputs": [],
   "source": [
    "import pandas as pd\n",
    "import numpy as np\n",
    "import seaborn as sns\n",
    "import matplotlib.pyplot as plt\n",
    "%matplotlib inline\n",
    "\n",
    "sns.set()"
   ]
  },
  {
   "cell_type": "markdown",
   "metadata": {},
   "source": [
    "#### Importing Dataset and creating a copy of that dataset"
   ]
  },
  {
   "cell_type": "code",
   "execution_count": 2,
   "metadata": {},
   "outputs": [],
   "source": [
    "data = pd.read_csv(\"data.csv\")\n",
    "df = data.copy()"
   ]
  },
  {
   "cell_type": "markdown",
   "metadata": {},
   "source": [
    "## Data Wrangling"
   ]
  },
  {
   "cell_type": "markdown",
   "metadata": {},
   "source": [
    "#### Looking at our data "
   ]
  },
  {
   "cell_type": "code",
   "execution_count": 3,
   "metadata": {},
   "outputs": [
    {
     "data": {
      "text/html": [
       "<div>\n",
       "<style scoped>\n",
       "    .dataframe tbody tr th:only-of-type {\n",
       "        vertical-align: middle;\n",
       "    }\n",
       "\n",
       "    .dataframe tbody tr th {\n",
       "        vertical-align: top;\n",
       "    }\n",
       "\n",
       "    .dataframe thead th {\n",
       "        text-align: right;\n",
       "    }\n",
       "</style>\n",
       "<table border=\"1\" class=\"dataframe\">\n",
       "  <thead>\n",
       "    <tr style=\"text-align: right;\">\n",
       "      <th></th>\n",
       "      <th>Unnamed: 0</th>\n",
       "      <th>insert_date</th>\n",
       "      <th>origin</th>\n",
       "      <th>destination</th>\n",
       "      <th>start_date</th>\n",
       "      <th>end_date</th>\n",
       "      <th>train_type</th>\n",
       "      <th>price</th>\n",
       "      <th>train_class</th>\n",
       "      <th>fare</th>\n",
       "    </tr>\n",
       "  </thead>\n",
       "  <tbody>\n",
       "    <tr>\n",
       "      <th>0</th>\n",
       "      <td>702</td>\n",
       "      <td>2019-04-19 05:37:35</td>\n",
       "      <td>PONFERRADA</td>\n",
       "      <td>MADRID</td>\n",
       "      <td>2019-06-02 15:00:00</td>\n",
       "      <td>2019-06-02 19:42:00</td>\n",
       "      <td>MD-AVE</td>\n",
       "      <td>59.50</td>\n",
       "      <td>Turista con enlace</td>\n",
       "      <td>Flexible</td>\n",
       "    </tr>\n",
       "    <tr>\n",
       "      <th>1</th>\n",
       "      <td>703</td>\n",
       "      <td>2019-04-19 05:37:35</td>\n",
       "      <td>PONFERRADA</td>\n",
       "      <td>MADRID</td>\n",
       "      <td>2019-06-02 17:15:00</td>\n",
       "      <td>2019-06-02 23:03:00</td>\n",
       "      <td>MD-AVE</td>\n",
       "      <td>34.65</td>\n",
       "      <td>Turista con enlace</td>\n",
       "      <td>Promo +</td>\n",
       "    </tr>\n",
       "    <tr>\n",
       "      <th>2</th>\n",
       "      <td>704</td>\n",
       "      <td>2019-04-19 05:37:35</td>\n",
       "      <td>PONFERRADA</td>\n",
       "      <td>MADRID</td>\n",
       "      <td>2019-06-02 17:15:00</td>\n",
       "      <td>2019-06-02 23:10:00</td>\n",
       "      <td>MD-LD</td>\n",
       "      <td>39.95</td>\n",
       "      <td>Turista con enlace</td>\n",
       "      <td>Promo +</td>\n",
       "    </tr>\n",
       "    <tr>\n",
       "      <th>3</th>\n",
       "      <td>705</td>\n",
       "      <td>2019-04-19 05:37:35</td>\n",
       "      <td>PONFERRADA</td>\n",
       "      <td>MADRID</td>\n",
       "      <td>2019-06-02 17:15:00</td>\n",
       "      <td>2019-06-02 22:14:00</td>\n",
       "      <td>MD-AVE</td>\n",
       "      <td>40.60</td>\n",
       "      <td>Turista con enlace</td>\n",
       "      <td>Promo +</td>\n",
       "    </tr>\n",
       "    <tr>\n",
       "      <th>4</th>\n",
       "      <td>706</td>\n",
       "      <td>2019-04-19 05:37:35</td>\n",
       "      <td>PONFERRADA</td>\n",
       "      <td>MADRID</td>\n",
       "      <td>2019-06-02 18:55:00</td>\n",
       "      <td>2019-06-02 23:03:00</td>\n",
       "      <td>ALVIA</td>\n",
       "      <td>27.90</td>\n",
       "      <td>Turista</td>\n",
       "      <td>Promo</td>\n",
       "    </tr>\n",
       "  </tbody>\n",
       "</table>\n",
       "</div>"
      ],
      "text/plain": [
       "   Unnamed: 0          insert_date      origin destination  \\\n",
       "0         702  2019-04-19 05:37:35  PONFERRADA      MADRID   \n",
       "1         703  2019-04-19 05:37:35  PONFERRADA      MADRID   \n",
       "2         704  2019-04-19 05:37:35  PONFERRADA      MADRID   \n",
       "3         705  2019-04-19 05:37:35  PONFERRADA      MADRID   \n",
       "4         706  2019-04-19 05:37:35  PONFERRADA      MADRID   \n",
       "\n",
       "            start_date             end_date train_type  price  \\\n",
       "0  2019-06-02 15:00:00  2019-06-02 19:42:00     MD-AVE  59.50   \n",
       "1  2019-06-02 17:15:00  2019-06-02 23:03:00     MD-AVE  34.65   \n",
       "2  2019-06-02 17:15:00  2019-06-02 23:10:00      MD-LD  39.95   \n",
       "3  2019-06-02 17:15:00  2019-06-02 22:14:00     MD-AVE  40.60   \n",
       "4  2019-06-02 18:55:00  2019-06-02 23:03:00      ALVIA  27.90   \n",
       "\n",
       "          train_class      fare  \n",
       "0  Turista con enlace  Flexible  \n",
       "1  Turista con enlace   Promo +  \n",
       "2  Turista con enlace   Promo +  \n",
       "3  Turista con enlace   Promo +  \n",
       "4             Turista     Promo  "
      ]
     },
     "execution_count": 3,
     "metadata": {},
     "output_type": "execute_result"
    }
   ],
   "source": [
    "df.head()"
   ]
  },
  {
   "cell_type": "markdown",
   "metadata": {},
   "source": [
    "####  'unnamed: 0' column seems to be not important as it is same as an index column, no use for us"
   ]
  },
  {
   "cell_type": "code",
   "execution_count": 4,
   "metadata": {
    "scrolled": true
   },
   "outputs": [
    {
     "data": {
      "text/html": [
       "<div>\n",
       "<style scoped>\n",
       "    .dataframe tbody tr th:only-of-type {\n",
       "        vertical-align: middle;\n",
       "    }\n",
       "\n",
       "    .dataframe tbody tr th {\n",
       "        vertical-align: top;\n",
       "    }\n",
       "\n",
       "    .dataframe thead th {\n",
       "        text-align: right;\n",
       "    }\n",
       "</style>\n",
       "<table border=\"1\" class=\"dataframe\">\n",
       "  <thead>\n",
       "    <tr style=\"text-align: right;\">\n",
       "      <th></th>\n",
       "      <th>insert_date</th>\n",
       "      <th>origin</th>\n",
       "      <th>destination</th>\n",
       "      <th>start_date</th>\n",
       "      <th>end_date</th>\n",
       "      <th>train_type</th>\n",
       "      <th>price</th>\n",
       "      <th>train_class</th>\n",
       "      <th>fare</th>\n",
       "    </tr>\n",
       "  </thead>\n",
       "  <tbody>\n",
       "    <tr>\n",
       "      <th>0</th>\n",
       "      <td>2019-04-19 05:37:35</td>\n",
       "      <td>PONFERRADA</td>\n",
       "      <td>MADRID</td>\n",
       "      <td>2019-06-02 15:00:00</td>\n",
       "      <td>2019-06-02 19:42:00</td>\n",
       "      <td>MD-AVE</td>\n",
       "      <td>59.50</td>\n",
       "      <td>Turista con enlace</td>\n",
       "      <td>Flexible</td>\n",
       "    </tr>\n",
       "    <tr>\n",
       "      <th>1</th>\n",
       "      <td>2019-04-19 05:37:35</td>\n",
       "      <td>PONFERRADA</td>\n",
       "      <td>MADRID</td>\n",
       "      <td>2019-06-02 17:15:00</td>\n",
       "      <td>2019-06-02 23:03:00</td>\n",
       "      <td>MD-AVE</td>\n",
       "      <td>34.65</td>\n",
       "      <td>Turista con enlace</td>\n",
       "      <td>Promo +</td>\n",
       "    </tr>\n",
       "    <tr>\n",
       "      <th>2</th>\n",
       "      <td>2019-04-19 05:37:35</td>\n",
       "      <td>PONFERRADA</td>\n",
       "      <td>MADRID</td>\n",
       "      <td>2019-06-02 17:15:00</td>\n",
       "      <td>2019-06-02 23:10:00</td>\n",
       "      <td>MD-LD</td>\n",
       "      <td>39.95</td>\n",
       "      <td>Turista con enlace</td>\n",
       "      <td>Promo +</td>\n",
       "    </tr>\n",
       "    <tr>\n",
       "      <th>3</th>\n",
       "      <td>2019-04-19 05:37:35</td>\n",
       "      <td>PONFERRADA</td>\n",
       "      <td>MADRID</td>\n",
       "      <td>2019-06-02 17:15:00</td>\n",
       "      <td>2019-06-02 22:14:00</td>\n",
       "      <td>MD-AVE</td>\n",
       "      <td>40.60</td>\n",
       "      <td>Turista con enlace</td>\n",
       "      <td>Promo +</td>\n",
       "    </tr>\n",
       "    <tr>\n",
       "      <th>4</th>\n",
       "      <td>2019-04-19 05:37:35</td>\n",
       "      <td>PONFERRADA</td>\n",
       "      <td>MADRID</td>\n",
       "      <td>2019-06-02 18:55:00</td>\n",
       "      <td>2019-06-02 23:03:00</td>\n",
       "      <td>ALVIA</td>\n",
       "      <td>27.90</td>\n",
       "      <td>Turista</td>\n",
       "      <td>Promo</td>\n",
       "    </tr>\n",
       "  </tbody>\n",
       "</table>\n",
       "</div>"
      ],
      "text/plain": [
       "           insert_date      origin destination           start_date  \\\n",
       "0  2019-04-19 05:37:35  PONFERRADA      MADRID  2019-06-02 15:00:00   \n",
       "1  2019-04-19 05:37:35  PONFERRADA      MADRID  2019-06-02 17:15:00   \n",
       "2  2019-04-19 05:37:35  PONFERRADA      MADRID  2019-06-02 17:15:00   \n",
       "3  2019-04-19 05:37:35  PONFERRADA      MADRID  2019-06-02 17:15:00   \n",
       "4  2019-04-19 05:37:35  PONFERRADA      MADRID  2019-06-02 18:55:00   \n",
       "\n",
       "              end_date train_type  price         train_class      fare  \n",
       "0  2019-06-02 19:42:00     MD-AVE  59.50  Turista con enlace  Flexible  \n",
       "1  2019-06-02 23:03:00     MD-AVE  34.65  Turista con enlace   Promo +  \n",
       "2  2019-06-02 23:10:00      MD-LD  39.95  Turista con enlace   Promo +  \n",
       "3  2019-06-02 22:14:00     MD-AVE  40.60  Turista con enlace   Promo +  \n",
       "4  2019-06-02 23:03:00      ALVIA  27.90             Turista     Promo  "
      ]
     },
     "execution_count": 4,
     "metadata": {},
     "output_type": "execute_result"
    }
   ],
   "source": [
    "df.drop('Unnamed: 0', axis=1, inplace=True)\n",
    "df.head()"
   ]
  },
  {
   "cell_type": "markdown",
   "metadata": {},
   "source": [
    "#### Checking the number of records in dataset"
   ]
  },
  {
   "cell_type": "code",
   "execution_count": 5,
   "metadata": {},
   "outputs": [
    {
     "name": "stdout",
     "output_type": "stream",
     "text": [
      "The DataFrame consists of 215909 rows and 9 columns\n"
     ]
    }
   ],
   "source": [
    "print(f'The DataFrame consists of {df.shape[0]} rows and {df.shape[1]} columns')"
   ]
  },
  {
   "cell_type": "markdown",
   "metadata": {},
   "source": [
    "#### Data types of all columns"
   ]
  },
  {
   "cell_type": "code",
   "execution_count": 6,
   "metadata": {
    "scrolled": true
   },
   "outputs": [
    {
     "data": {
      "text/plain": [
       "insert_date     object\n",
       "origin          object\n",
       "destination     object\n",
       "start_date      object\n",
       "end_date        object\n",
       "train_type      object\n",
       "price          float64\n",
       "train_class     object\n",
       "fare            object\n",
       "dtype: object"
      ]
     },
     "execution_count": 6,
     "metadata": {},
     "output_type": "execute_result"
    }
   ],
   "source": [
    "df.dtypes"
   ]
  },
  {
   "cell_type": "markdown",
   "metadata": {},
   "source": [
    "Date columns appear as object so we may need to change that for some feature engineering"
   ]
  },
  {
   "cell_type": "markdown",
   "metadata": {},
   "source": [
    "### Summary Statistics"
   ]
  },
  {
   "cell_type": "markdown",
   "metadata": {},
   "source": [
    "#### Summary statistics of all columns, including object dataypes"
   ]
  },
  {
   "cell_type": "code",
   "execution_count": 7,
   "metadata": {
    "scrolled": true
   },
   "outputs": [
    {
     "data": {
      "text/html": [
       "<div>\n",
       "<style scoped>\n",
       "    .dataframe tbody tr th:only-of-type {\n",
       "        vertical-align: middle;\n",
       "    }\n",
       "\n",
       "    .dataframe tbody tr th {\n",
       "        vertical-align: top;\n",
       "    }\n",
       "\n",
       "    .dataframe thead th {\n",
       "        text-align: right;\n",
       "    }\n",
       "</style>\n",
       "<table border=\"1\" class=\"dataframe\">\n",
       "  <thead>\n",
       "    <tr style=\"text-align: right;\">\n",
       "      <th></th>\n",
       "      <th>insert_date</th>\n",
       "      <th>origin</th>\n",
       "      <th>destination</th>\n",
       "      <th>start_date</th>\n",
       "      <th>end_date</th>\n",
       "      <th>train_type</th>\n",
       "      <th>price</th>\n",
       "      <th>train_class</th>\n",
       "      <th>fare</th>\n",
       "    </tr>\n",
       "  </thead>\n",
       "  <tbody>\n",
       "    <tr>\n",
       "      <th>count</th>\n",
       "      <td>215909</td>\n",
       "      <td>215909</td>\n",
       "      <td>215909</td>\n",
       "      <td>215909</td>\n",
       "      <td>215909</td>\n",
       "      <td>215909</td>\n",
       "      <td>202321.000000</td>\n",
       "      <td>215266</td>\n",
       "      <td>215266</td>\n",
       "    </tr>\n",
       "    <tr>\n",
       "      <th>unique</th>\n",
       "      <td>30543</td>\n",
       "      <td>5</td>\n",
       "      <td>5</td>\n",
       "      <td>2231</td>\n",
       "      <td>2870</td>\n",
       "      <td>16</td>\n",
       "      <td>NaN</td>\n",
       "      <td>5</td>\n",
       "      <td>5</td>\n",
       "    </tr>\n",
       "    <tr>\n",
       "      <th>top</th>\n",
       "      <td>2019-05-09 15:02:02</td>\n",
       "      <td>MADRID</td>\n",
       "      <td>MADRID</td>\n",
       "      <td>2019-06-02 17:30:00</td>\n",
       "      <td>2019-06-02 23:03:00</td>\n",
       "      <td>AVE</td>\n",
       "      <td>NaN</td>\n",
       "      <td>Turista</td>\n",
       "      <td>Promo</td>\n",
       "    </tr>\n",
       "    <tr>\n",
       "      <th>freq</th>\n",
       "      <td>90</td>\n",
       "      <td>110440</td>\n",
       "      <td>105469</td>\n",
       "      <td>2089</td>\n",
       "      <td>1278</td>\n",
       "      <td>126577</td>\n",
       "      <td>NaN</td>\n",
       "      <td>164016</td>\n",
       "      <td>132065</td>\n",
       "    </tr>\n",
       "    <tr>\n",
       "      <th>mean</th>\n",
       "      <td>NaN</td>\n",
       "      <td>NaN</td>\n",
       "      <td>NaN</td>\n",
       "      <td>NaN</td>\n",
       "      <td>NaN</td>\n",
       "      <td>NaN</td>\n",
       "      <td>56.723877</td>\n",
       "      <td>NaN</td>\n",
       "      <td>NaN</td>\n",
       "    </tr>\n",
       "    <tr>\n",
       "      <th>std</th>\n",
       "      <td>NaN</td>\n",
       "      <td>NaN</td>\n",
       "      <td>NaN</td>\n",
       "      <td>NaN</td>\n",
       "      <td>NaN</td>\n",
       "      <td>NaN</td>\n",
       "      <td>25.531787</td>\n",
       "      <td>NaN</td>\n",
       "      <td>NaN</td>\n",
       "    </tr>\n",
       "    <tr>\n",
       "      <th>min</th>\n",
       "      <td>NaN</td>\n",
       "      <td>NaN</td>\n",
       "      <td>NaN</td>\n",
       "      <td>NaN</td>\n",
       "      <td>NaN</td>\n",
       "      <td>NaN</td>\n",
       "      <td>16.600000</td>\n",
       "      <td>NaN</td>\n",
       "      <td>NaN</td>\n",
       "    </tr>\n",
       "    <tr>\n",
       "      <th>25%</th>\n",
       "      <td>NaN</td>\n",
       "      <td>NaN</td>\n",
       "      <td>NaN</td>\n",
       "      <td>NaN</td>\n",
       "      <td>NaN</td>\n",
       "      <td>NaN</td>\n",
       "      <td>28.350000</td>\n",
       "      <td>NaN</td>\n",
       "      <td>NaN</td>\n",
       "    </tr>\n",
       "    <tr>\n",
       "      <th>50%</th>\n",
       "      <td>NaN</td>\n",
       "      <td>NaN</td>\n",
       "      <td>NaN</td>\n",
       "      <td>NaN</td>\n",
       "      <td>NaN</td>\n",
       "      <td>NaN</td>\n",
       "      <td>53.400000</td>\n",
       "      <td>NaN</td>\n",
       "      <td>NaN</td>\n",
       "    </tr>\n",
       "    <tr>\n",
       "      <th>75%</th>\n",
       "      <td>NaN</td>\n",
       "      <td>NaN</td>\n",
       "      <td>NaN</td>\n",
       "      <td>NaN</td>\n",
       "      <td>NaN</td>\n",
       "      <td>NaN</td>\n",
       "      <td>76.300000</td>\n",
       "      <td>NaN</td>\n",
       "      <td>NaN</td>\n",
       "    </tr>\n",
       "    <tr>\n",
       "      <th>max</th>\n",
       "      <td>NaN</td>\n",
       "      <td>NaN</td>\n",
       "      <td>NaN</td>\n",
       "      <td>NaN</td>\n",
       "      <td>NaN</td>\n",
       "      <td>NaN</td>\n",
       "      <td>206.800000</td>\n",
       "      <td>NaN</td>\n",
       "      <td>NaN</td>\n",
       "    </tr>\n",
       "  </tbody>\n",
       "</table>\n",
       "</div>"
      ],
      "text/plain": [
       "                insert_date  origin destination           start_date  \\\n",
       "count                215909  215909      215909               215909   \n",
       "unique                30543       5           5                 2231   \n",
       "top     2019-05-09 15:02:02  MADRID      MADRID  2019-06-02 17:30:00   \n",
       "freq                     90  110440      105469                 2089   \n",
       "mean                    NaN     NaN         NaN                  NaN   \n",
       "std                     NaN     NaN         NaN                  NaN   \n",
       "min                     NaN     NaN         NaN                  NaN   \n",
       "25%                     NaN     NaN         NaN                  NaN   \n",
       "50%                     NaN     NaN         NaN                  NaN   \n",
       "75%                     NaN     NaN         NaN                  NaN   \n",
       "max                     NaN     NaN         NaN                  NaN   \n",
       "\n",
       "                   end_date train_type          price train_class    fare  \n",
       "count                215909     215909  202321.000000      215266  215266  \n",
       "unique                 2870         16            NaN           5       5  \n",
       "top     2019-06-02 23:03:00        AVE            NaN     Turista   Promo  \n",
       "freq                   1278     126577            NaN      164016  132065  \n",
       "mean                    NaN        NaN      56.723877         NaN     NaN  \n",
       "std                     NaN        NaN      25.531787         NaN     NaN  \n",
       "min                     NaN        NaN      16.600000         NaN     NaN  \n",
       "25%                     NaN        NaN      28.350000         NaN     NaN  \n",
       "50%                     NaN        NaN      53.400000         NaN     NaN  \n",
       "75%                     NaN        NaN      76.300000         NaN     NaN  \n",
       "max                     NaN        NaN     206.800000         NaN     NaN  "
      ]
     },
     "execution_count": 7,
     "metadata": {},
     "output_type": "execute_result"
    }
   ],
   "source": [
    "df.describe(include='all')"
   ]
  },
  {
   "cell_type": "markdown",
   "metadata": {},
   "source": [
    "This does not look good so we check separately for int and object types"
   ]
  },
  {
   "cell_type": "code",
   "execution_count": 8,
   "metadata": {
    "scrolled": true
   },
   "outputs": [
    {
     "data": {
      "text/html": [
       "<div>\n",
       "<style scoped>\n",
       "    .dataframe tbody tr th:only-of-type {\n",
       "        vertical-align: middle;\n",
       "    }\n",
       "\n",
       "    .dataframe tbody tr th {\n",
       "        vertical-align: top;\n",
       "    }\n",
       "\n",
       "    .dataframe thead th {\n",
       "        text-align: right;\n",
       "    }\n",
       "</style>\n",
       "<table border=\"1\" class=\"dataframe\">\n",
       "  <thead>\n",
       "    <tr style=\"text-align: right;\">\n",
       "      <th></th>\n",
       "      <th>price</th>\n",
       "    </tr>\n",
       "  </thead>\n",
       "  <tbody>\n",
       "    <tr>\n",
       "      <th>count</th>\n",
       "      <td>202321.000000</td>\n",
       "    </tr>\n",
       "    <tr>\n",
       "      <th>mean</th>\n",
       "      <td>56.723877</td>\n",
       "    </tr>\n",
       "    <tr>\n",
       "      <th>std</th>\n",
       "      <td>25.531787</td>\n",
       "    </tr>\n",
       "    <tr>\n",
       "      <th>min</th>\n",
       "      <td>16.600000</td>\n",
       "    </tr>\n",
       "    <tr>\n",
       "      <th>25%</th>\n",
       "      <td>28.350000</td>\n",
       "    </tr>\n",
       "    <tr>\n",
       "      <th>50%</th>\n",
       "      <td>53.400000</td>\n",
       "    </tr>\n",
       "    <tr>\n",
       "      <th>75%</th>\n",
       "      <td>76.300000</td>\n",
       "    </tr>\n",
       "    <tr>\n",
       "      <th>max</th>\n",
       "      <td>206.800000</td>\n",
       "    </tr>\n",
       "  </tbody>\n",
       "</table>\n",
       "</div>"
      ],
      "text/plain": [
       "               price\n",
       "count  202321.000000\n",
       "mean       56.723877\n",
       "std        25.531787\n",
       "min        16.600000\n",
       "25%        28.350000\n",
       "50%        53.400000\n",
       "75%        76.300000\n",
       "max       206.800000"
      ]
     },
     "execution_count": 8,
     "metadata": {},
     "output_type": "execute_result"
    }
   ],
   "source": [
    "df.describe(include=[np.number])"
   ]
  },
  {
   "cell_type": "code",
   "execution_count": 9,
   "metadata": {},
   "outputs": [
    {
     "data": {
      "text/html": [
       "<div>\n",
       "<style scoped>\n",
       "    .dataframe tbody tr th:only-of-type {\n",
       "        vertical-align: middle;\n",
       "    }\n",
       "\n",
       "    .dataframe tbody tr th {\n",
       "        vertical-align: top;\n",
       "    }\n",
       "\n",
       "    .dataframe thead th {\n",
       "        text-align: right;\n",
       "    }\n",
       "</style>\n",
       "<table border=\"1\" class=\"dataframe\">\n",
       "  <thead>\n",
       "    <tr style=\"text-align: right;\">\n",
       "      <th></th>\n",
       "      <th>insert_date</th>\n",
       "      <th>origin</th>\n",
       "      <th>destination</th>\n",
       "      <th>start_date</th>\n",
       "      <th>end_date</th>\n",
       "      <th>train_type</th>\n",
       "      <th>train_class</th>\n",
       "      <th>fare</th>\n",
       "    </tr>\n",
       "  </thead>\n",
       "  <tbody>\n",
       "    <tr>\n",
       "      <th>count</th>\n",
       "      <td>215909</td>\n",
       "      <td>215909</td>\n",
       "      <td>215909</td>\n",
       "      <td>215909</td>\n",
       "      <td>215909</td>\n",
       "      <td>215909</td>\n",
       "      <td>215266</td>\n",
       "      <td>215266</td>\n",
       "    </tr>\n",
       "    <tr>\n",
       "      <th>unique</th>\n",
       "      <td>30543</td>\n",
       "      <td>5</td>\n",
       "      <td>5</td>\n",
       "      <td>2231</td>\n",
       "      <td>2870</td>\n",
       "      <td>16</td>\n",
       "      <td>5</td>\n",
       "      <td>5</td>\n",
       "    </tr>\n",
       "    <tr>\n",
       "      <th>top</th>\n",
       "      <td>2019-05-09 15:02:02</td>\n",
       "      <td>MADRID</td>\n",
       "      <td>MADRID</td>\n",
       "      <td>2019-06-02 17:30:00</td>\n",
       "      <td>2019-06-02 23:03:00</td>\n",
       "      <td>AVE</td>\n",
       "      <td>Turista</td>\n",
       "      <td>Promo</td>\n",
       "    </tr>\n",
       "    <tr>\n",
       "      <th>freq</th>\n",
       "      <td>90</td>\n",
       "      <td>110440</td>\n",
       "      <td>105469</td>\n",
       "      <td>2089</td>\n",
       "      <td>1278</td>\n",
       "      <td>126577</td>\n",
       "      <td>164016</td>\n",
       "      <td>132065</td>\n",
       "    </tr>\n",
       "  </tbody>\n",
       "</table>\n",
       "</div>"
      ],
      "text/plain": [
       "                insert_date  origin destination           start_date  \\\n",
       "count                215909  215909      215909               215909   \n",
       "unique                30543       5           5                 2231   \n",
       "top     2019-05-09 15:02:02  MADRID      MADRID  2019-06-02 17:30:00   \n",
       "freq                     90  110440      105469                 2089   \n",
       "\n",
       "                   end_date train_type train_class    fare  \n",
       "count                215909     215909      215266  215266  \n",
       "unique                 2870         16           5       5  \n",
       "top     2019-06-02 23:03:00        AVE     Turista   Promo  \n",
       "freq                   1278     126577      164016  132065  "
      ]
     },
     "execution_count": 9,
     "metadata": {},
     "output_type": "execute_result"
    }
   ],
   "source": [
    "df.describe(include=['O'])"
   ]
  },
  {
   "cell_type": "markdown",
   "metadata": {},
   "source": [
    "**insert_date:**\n",
    "Well, it doesn't really tell much. But the date when most people paid for ticket price is '2019-05-09 15:02:02', A total of 90 people did that.\n",
    "\n",
    "**origin:**\n",
    "There are total of 5 origin train stations. And most people (105469 number of people) boarded from Madrid.\n",
    "\n",
    "**destination:**\n",
    "Same as above. Most people (a total of 105469 people) landed on Madrid stations.\n",
    "\n",
    "**start_date and end_date:**\n",
    "Most tickets are starting and expiring at '2019-06-02'. Although this frequency seems not to matter much.\n",
    "\n",
    "**train_type:**\n",
    "There are 16 types of train. The type 'AVE' is the most boarded train: out of 215909, 126577 people boarded from this type. Perhaps, price wise, 'AVE' type is the most affordable option for people. We'll see later.\n",
    "\n",
    "**price:**\n",
    "'price' is the only numerical variable we have here. By looking at its mean (56.723877) & median (53.400000), we can see that the price data tends to be symmetrical. Although, the min price is 16.600000 and max price is 206.800000. This shows that price range is quite big which shows that this data might need scaling afterwards.\n",
    "\n",
    "**train_class:**\n",
    "There are a total of 5 train classes. 'Turista' is the most used train class. Perhaps because Turista is an affordable option for people price wise. We'll see about that later. \n",
    "\n",
    "**fare:**\n",
    "There are 5 types of fare, out of which, promo is the most opted for option. Might be because its the most affordable. We'll see."
   ]
  },
  {
   "cell_type": "markdown",
   "metadata": {},
   "source": [
    "### **Missing Data**"
   ]
  },
  {
   "cell_type": "code",
   "execution_count": 10,
   "metadata": {},
   "outputs": [
    {
     "data": {
      "text/plain": [
       "insert_date        0\n",
       "origin             0\n",
       "destination        0\n",
       "start_date         0\n",
       "end_date           0\n",
       "train_type         0\n",
       "price          13588\n",
       "train_class      643\n",
       "fare             643\n",
       "dtype: int64"
      ]
     },
     "execution_count": 10,
     "metadata": {},
     "output_type": "execute_result"
    }
   ],
   "source": [
    "df.isnull().sum()"
   ]
  },
  {
   "cell_type": "markdown",
   "metadata": {},
   "source": [
    "#### Fill the Null values in the 'price' column with mean of the price"
   ]
  },
  {
   "cell_type": "code",
   "execution_count": 11,
   "metadata": {},
   "outputs": [],
   "source": [
    "df['price'].fillna(value= df['price'].mean(), inplace= True)"
   ]
  },
  {
   "cell_type": "code",
   "execution_count": 12,
   "metadata": {},
   "outputs": [
    {
     "data": {
      "text/plain": [
       "insert_date      0\n",
       "origin           0\n",
       "destination      0\n",
       "start_date       0\n",
       "end_date         0\n",
       "train_type       0\n",
       "price            0\n",
       "train_class    643\n",
       "fare           643\n",
       "dtype: int64"
      ]
     },
     "execution_count": 12,
     "metadata": {},
     "output_type": "execute_result"
    }
   ],
   "source": [
    "df.isnull().sum()"
   ]
  },
  {
   "cell_type": "markdown",
   "metadata": {},
   "source": [
    "#### Dropping the rows containing Null values in the attributes train_class and fare as only few values are missing and removing them will not affect our model"
   ]
  },
  {
   "cell_type": "code",
   "execution_count": 13,
   "metadata": {},
   "outputs": [],
   "source": [
    "df.dropna(subset=['train_class', 'fare'], inplace=True)"
   ]
  },
  {
   "cell_type": "markdown",
   "metadata": {},
   "source": [
    "**Checking null values again in dataset**"
   ]
  },
  {
   "cell_type": "code",
   "execution_count": 14,
   "metadata": {},
   "outputs": [
    {
     "data": {
      "text/plain": [
       "insert_date    0\n",
       "origin         0\n",
       "destination    0\n",
       "start_date     0\n",
       "end_date       0\n",
       "train_type     0\n",
       "price          0\n",
       "train_class    0\n",
       "fare           0\n",
       "dtype: int64"
      ]
     },
     "execution_count": 14,
     "metadata": {},
     "output_type": "execute_result"
    }
   ],
   "source": [
    "df.isnull().sum()"
   ]
  },
  {
   "cell_type": "markdown",
   "metadata": {},
   "source": [
    "# Exploratory Data Analysis (EDA)"
   ]
  },
  {
   "cell_type": "markdown",
   "metadata": {},
   "source": [
    "#### Number of people boarding from different stations\n"
   ]
  },
  {
   "cell_type": "code",
   "execution_count": 15,
   "metadata": {
    "scrolled": false
   },
   "outputs": [
    {
     "data": {
      "image/png": "[encoded data removed]",
      "text/plain": [
       "<Figure size 1080x432 with 1 Axes>"
      ]
     },
     "metadata": {
      "needs_background": "light"
     },
     "output_type": "display_data"
    }
   ],
   "source": [
    "fig=plt.figure(figsize=(15,6))\n",
    "ax=sns.countplot(x= 'origin', data= df)\n",
    "plt.xlabel('Origin', {'fontsize': 12})\n",
    "plt.ylabel('No. of People', {'fontsize': 12})\n",
    "plt.title('Popular Origin', {'fontsize': 12})\n",
    "plt.show()"
   ]
  },
  {
   "cell_type": "markdown",
   "metadata": {},
   "source": [
    "Most number of people are boarding from Madrid, while Ponferrada has minimum number of people travelling to other cities"
   ]
  },
  {
   "cell_type": "markdown",
   "metadata": {},
   "source": [
    "#### Number of people for the destination stations"
   ]
  },
  {
   "cell_type": "code",
   "execution_count": 16,
   "metadata": {},
   "outputs": [
    {
     "data": {
      "image/png": "[encoded data removed]",
      "text/plain": [
       "<Figure size 1080x432 with 1 Axes>"
      ]
     },
     "metadata": {
      "needs_background": "light"
     },
     "output_type": "display_data"
    }
   ],
   "source": [
    "fig= plt.figure(figsize=(15,6))\n",
    "sns.countplot(x='destination', data= df)\n",
    "plt.xlabel('Destination', {'fontsize': 12})\n",
    "plt.ylabel('No. of People', {'fontsize': 12})\n",
    "plt.title('Popular Destiantions', {'fontsize': 12})\n",
    "plt.show()"
   ]
  },
  {
   "cell_type": "markdown",
   "metadata": {},
   "source": [
    "A very large number (approximately geater than 105000) have travelled to Madrid, while only a small number of people have travelled to Ponferrada."
   ]
  },
  {
   "cell_type": "markdown",
   "metadata": {},
   "source": [
    "#### **Different types of train that runs in Spain and their usage**"
   ]
  },
  {
   "cell_type": "code",
   "execution_count": 17,
   "metadata": {},
   "outputs": [
    {
     "data": {
      "image/png": "[encoded data removed]",
      "text/plain": [
       "<Figure size 1080x432 with 1 Axes>"
      ]
     },
     "metadata": {
      "needs_background": "light"
     },
     "output_type": "display_data"
    }
   ],
   "source": [
    "plt.figure(figsize=(15, 6))\n",
    "sns.countplot(x=df['train_type'])\n",
    "plt.xlabel('Train Types', {'fontsize': 12})\n",
    "plt.xticks(rotation= 35)\n",
    "plt.ylabel('No. of Sold Tickets', {'fontsize': 12})\n",
    "plt.title('Train Types Usage', {'fontsize': 12})\n",
    "plt.show()"
   ]
  },
  {
   "cell_type": "markdown",
   "metadata": {},
   "source": [
    "**AVE** type train runs the maximum in number as compared to other train types\n"
   ]
  },
  {
   "cell_type": "markdown",
   "metadata": {},
   "source": [
    "#### **Number of trains of different class and their usage**\n"
   ]
  },
  {
   "cell_type": "code",
   "execution_count": 18,
   "metadata": {
    "scrolled": false
   },
   "outputs": [
    {
     "data": {
      "image/png": "[encoded data removed]",
      "text/plain": [
       "<Figure size 1080x432 with 1 Axes>"
      ]
     },
     "metadata": {
      "needs_background": "light"
     },
     "output_type": "display_data"
    }
   ],
   "source": [
    "plt.figure(figsize=(15,6))\n",
    "sns.countplot(x='train_class', data= df)\n",
    "plt.xlabel('Train Class', {'fontsize': 12})\n",
    "plt.ylabel('No. of Sold Tickets', {'fontsize': 12})\n",
    "plt.title('Train Class Usage', {'fontsize': 12})\n",
    "plt.show()"
   ]
  },
  {
   "cell_type": "markdown",
   "metadata": {},
   "source": [
    "**Turista** train class is mostly used for travelling by the people.\n"
   ]
  },
  {
   "cell_type": "markdown",
   "metadata": {},
   "source": [
    "#### **Number of tickets bought from each category**"
   ]
  },
  {
   "cell_type": "code",
   "execution_count": 19,
   "metadata": {},
   "outputs": [
    {
     "data": {
      "image/png": "[encoded data removed]",
      "text/plain": [
       "<Figure size 1080x432 with 1 Axes>"
      ]
     },
     "metadata": {
      "needs_background": "light"
     },
     "output_type": "display_data"
    }
   ],
   "source": [
    "plt.figure(figsize=(15,6))\n",
    "sns.countplot(x='fare', data= df)\n",
    "plt.xlabel('Fare Types', {'fontsize': 12})\n",
    "plt.ylabel('No.of Sold Tickets', {'fontsize': 12})\n",
    "plt.title('Fare Types Usage ', {'fontsize': 12})\n",
    "plt.show()"
   ]
  },
  {
   "cell_type": "markdown",
   "metadata": {},
   "source": [
    "**Promo** fare tickets are the most bought tickets for travelling around spain."
   ]
  },
  {
   "cell_type": "markdown",
   "metadata": {},
   "source": [
    "#### **Distribution of the ticket prices**"
   ]
  },
  {
   "cell_type": "code",
   "execution_count": 20,
   "metadata": {
    "scrolled": false
   },
   "outputs": [
    {
     "name": "stderr",
     "output_type": "stream",
     "text": [
      "F:\\Anaconda3\\lib\\site-packages\\scipy\\stats\\stats.py:1713: FutureWarning: Using a non-tuple sequence for multidimensional indexing is deprecated; use `arr[tuple(seq)]` instead of `arr[seq]`. In the future this will be interpreted as an array index, `arr[np.array(seq)]`, which will result either in an error or a different result.\n",
      "  return np.add.reduce(sorted[indexer] * weights, axis=axis) / sumval\n"
     ]
    },
    {
     "data": {
      "image/png": "[encoded data removed]",
      "text/plain": [
       "<Figure size 1080x432 with 1 Axes>"
      ]
     },
     "metadata": {
      "needs_background": "light"
     },
     "output_type": "display_data"
    }
   ],
   "source": [
    "from scipy.stats import norm\n",
    "plt.subplots(figsize=(15,6))\n",
    "sns.distplot(df['price'], fit=norm)\n",
    "plt.xlabel('Price', {'fontsize': 12})\n",
    "plt.title('Distribution of the ticket prices', {'fontsize': 12})\n",
    "plt.show()"
   ]
  },
  {
   "cell_type": "markdown",
   "metadata": {},
   "source": [
    "The distribution of ticket prices is multimodal and right skewed. The mode value lies in between 27-29 as the bar for this particular bin is highest."
   ]
  },
  {
   "cell_type": "markdown",
   "metadata": {},
   "source": [
    "###### **train_class vs price**"
   ]
  },
  {
   "cell_type": "code",
   "execution_count": 21,
   "metadata": {
    "scrolled": false
   },
   "outputs": [
    {
     "data": {
      "image/png": "[encoded data removed]",
      "text/plain": [
       "<Figure size 1080x432 with 1 Axes>"
      ]
     },
     "metadata": {
      "needs_background": "light"
     },
     "output_type": "display_data"
    }
   ],
   "source": [
    "plt.subplots(figsize=(15,6))\n",
    "sns.boxplot(x='train_class',y='price',data=df)\n",
    "plt.xlabel('Train Class', {'fontsize': 12})\n",
    "plt.ylabel('Price', {'fontsize': 12})\n",
    "plt.title('Distribution of Price vs Train Class', {'fontsize': 12})\n",
    "plt.show()"
   ]
  },
  {
   "cell_type": "markdown",
   "metadata": {},
   "source": [
    "The ticket price for **Turista Plus** train class is comparatilvely high, but **Cama Turista** is bought by fewer people, as it may refer to a less visited destination e.g. Ponferrada.**Turista** class is the most sought for train class as it offer ticket prices that range from minimum possible upto approximately the the highest possible with exception of few outliers.**Turista con enlace** offers the prices between 25 and 75 euros and is 2nd least used train class."
   ]
  },
  {
   "cell_type": "markdown",
   "metadata": {},
   "source": [
    "#### **train_type vs price**\n"
   ]
  },
  {
   "cell_type": "code",
   "execution_count": 22,
   "metadata": {},
   "outputs": [
    {
     "data": {
      "image/png": "[encoded data removed]",
      "text/plain": [
       "<Figure size 1080x432 with 1 Axes>"
      ]
     },
     "metadata": {
      "needs_background": "light"
     },
     "output_type": "display_data"
    }
   ],
   "source": [
    "plt.subplots(figsize=(15,6))\n",
    "ax = sns.boxplot(x='train_type',y='price',data=df)\n",
    "plt.xlabel('Train Type', {'fontsize': 12})\n",
    "plt.xticks(rotation=35)\n",
    "plt.ylabel('Price', {'fontsize': 12})\n",
    "plt.title('Distribution of Price vs Train Type', {'fontsize': 12})\n",
    "plt.show()"
   ]
  },
  {
   "cell_type": "markdown",
   "metadata": {},
   "source": [
    "From the above plot we can infer that **AVE** and **Ave-TGV** cost more as compared to other trains."
   ]
  },
  {
   "cell_type": "markdown",
   "metadata": {},
   "source": [
    "#### fare vs price"
   ]
  },
  {
   "cell_type": "code",
   "execution_count": 23,
   "metadata": {
    "scrolled": false
   },
   "outputs": [
    {
     "data": {
      "image/png": "[encoded data removed]",
      "text/plain": [
       "<Figure size 1080x432 with 1 Axes>"
      ]
     },
     "metadata": {
      "needs_background": "light"
     },
     "output_type": "display_data"
    }
   ],
   "source": [
    "plt.figure(figsize=[15,6])\n",
    "sns.boxplot(x=\"fare\", y=\"price\", data=df);\n",
    "plt.xlabel('Fare Type', {'fontsize': 12})\n",
    "plt.ylabel('Price', {'fontsize': 12})\n",
    "plt.title('Distribution of Price vs Fare Type', {'fontsize': 12})\n",
    "plt.show()"
   ]
  },
  {
   "cell_type": "markdown",
   "metadata": {},
   "source": [
    "From the above plot it is clear that when it comes to fare **Mesa** is the most expensive one and ths might be the reason it is not widely used.**Adulto ida** has fixed price and is used quite often so we can say that it may be a Senior Citizen fare, While **Promo+** is least expensive. **Promo** is most used fare and offers a wide range of ticket prices including the minimum cost for a fare type."
   ]
  },
  {
   "cell_type": "markdown",
   "metadata": {},
   "source": [
    "## Feature Engineering\n"
   ]
  },
  {
   "cell_type": "markdown",
   "metadata": {},
   "source": [
    "**Finding the travel time between the place of origin and destination**<br>\n",
    "We need to find out the travel time for each entry which can be obtained from the 'start_date' and 'end_date' column. Also if you see, these columns are in object type therefore datetimeFormat should be defined to perform the necessary operation of getting the required time."
   ]
  },
  {
   "cell_type": "markdown",
   "metadata": {},
   "source": [
    "**Import datetime library**"
   ]
  },
  {
   "cell_type": "code",
   "execution_count": 24,
   "metadata": {},
   "outputs": [],
   "source": [
    "import datetime"
   ]
  },
  {
   "cell_type": "code",
   "execution_count": 25,
   "metadata": {},
   "outputs": [],
   "source": [
    "datetimeFormat = '%Y-%m-%d %H:%M:%S'\n",
    "def fun(a,b):\n",
    "    diff = datetime.datetime.strptime(b, datetimeFormat)- datetime.datetime.strptime(a, datetimeFormat)\n",
    "    return(diff.seconds/3600.0)"
   ]
  },
  {
   "cell_type": "code",
   "execution_count": 26,
   "metadata": {},
   "outputs": [],
   "source": [
    "df['travel_time_in_hrs'] = df.apply(lambda x:fun(x['start_date'],x['end_date']),axis=1) "
   ]
  },
  {
   "cell_type": "code",
   "execution_count": 27,
   "metadata": {},
   "outputs": [
    {
     "data": {
      "image/png": "[encoded data removed]",
      "text/plain": [
       "<Figure size 1080x432 with 1 Axes>"
      ]
     },
     "metadata": {
      "needs_background": "light"
     },
     "output_type": "display_data"
    }
   ],
   "source": [
    "from scipy.stats import norm\n",
    "plt.subplots(figsize=(15,6))\n",
    "sns.distplot(df['travel_time_in_hrs'], fit=norm)\n",
    "plt.xlabel('Travel Time', {'fontsize': 15})\n",
    "plt.title('Distribution of Travel Time', {'fontsize': 15})\n",
    "plt.show()"
   ]
  },
  {
   "cell_type": "code",
   "execution_count": 28,
   "metadata": {
    "scrolled": false
   },
   "outputs": [
    {
     "data": {
      "image/png": "[encoded data removed]",
      "text/plain": [
       "<Figure size 1080x432 with 1 Axes>"
      ]
     },
     "metadata": {
      "needs_background": "light"
     },
     "output_type": "display_data"
    }
   ],
   "source": [
    "plt.figure(figsize=[15,6])\n",
    "sns.regplot(x=\"travel_time_in_hrs\", y=\"price\", data=df);\n",
    "plt.xlabel('Travel Time', {'fontsize': 15})\n",
    "plt.ylabel('Price', {'fontsize': 15})\n",
    "plt.title('Price vs Travel Time', {'fontsize': 15})\n",
    "plt.show()"
   ]
  },
  {
   "cell_type": "markdown",
   "metadata": {},
   "source": [
    "So, we can say that Higher the travel time lower the prices"
   ]
  },
  {
   "cell_type": "markdown",
   "metadata": {},
   "source": [
    "At different time of a day depending on the traffic and avialability of tickets prices may vary so, we want to get the starting hour from the start_date also some late arrivas can be helpfull in determining the cost of ticket so, we will also create a new feature ending_hour from end_date."
   ]
  },
  {
   "cell_type": "markdown",
   "metadata": {},
   "source": [
    "#### Changing type of Date columns"
   ]
  },
  {
   "cell_type": "code",
   "execution_count": 29,
   "metadata": {
    "scrolled": true
   },
   "outputs": [
    {
     "name": "stdout",
     "output_type": "stream",
     "text": [
      "<class 'pandas.core.frame.DataFrame'>\n",
      "Int64Index: 215266 entries, 0 to 215908\n",
      "Data columns (total 10 columns):\n",
      "insert_date           215266 non-null object\n",
      "origin                215266 non-null object\n",
      "destination           215266 non-null object\n",
      "start_date            215266 non-null datetime64[ns]\n",
      "end_date              215266 non-null datetime64[ns]\n",
      "train_type            215266 non-null object\n",
      "price                 215266 non-null float64\n",
      "train_class           215266 non-null object\n",
      "fare                  215266 non-null object\n",
      "travel_time_in_hrs    215266 non-null float64\n",
      "dtypes: datetime64[ns](2), float64(2), object(6)\n",
      "memory usage: 28.1+ MB\n"
     ]
    }
   ],
   "source": [
    "for i in ['start_date','end_date']:\n",
    "    df[i] = pd.to_datetime(df[i])\n",
    "df.info()"
   ]
  },
  {
   "cell_type": "markdown",
   "metadata": {},
   "source": [
    "#### Extracting Starting hour and ending hour"
   ]
  },
  {
   "cell_type": "code",
   "execution_count": 30,
   "metadata": {
    "scrolled": true
   },
   "outputs": [
    {
     "data": {
      "text/html": [
       "<div>\n",
       "<style scoped>\n",
       "    .dataframe tbody tr th:only-of-type {\n",
       "        vertical-align: middle;\n",
       "    }\n",
       "\n",
       "    .dataframe tbody tr th {\n",
       "        vertical-align: top;\n",
       "    }\n",
       "\n",
       "    .dataframe thead th {\n",
       "        text-align: right;\n",
       "    }\n",
       "</style>\n",
       "<table border=\"1\" class=\"dataframe\">\n",
       "  <thead>\n",
       "    <tr style=\"text-align: right;\">\n",
       "      <th></th>\n",
       "      <th>insert_date</th>\n",
       "      <th>origin</th>\n",
       "      <th>destination</th>\n",
       "      <th>start_date</th>\n",
       "      <th>end_date</th>\n",
       "      <th>train_type</th>\n",
       "      <th>price</th>\n",
       "      <th>train_class</th>\n",
       "      <th>fare</th>\n",
       "      <th>travel_time_in_hrs</th>\n",
       "      <th>starting_hour</th>\n",
       "      <th>ending_hour</th>\n",
       "    </tr>\n",
       "  </thead>\n",
       "  <tbody>\n",
       "    <tr>\n",
       "      <th>0</th>\n",
       "      <td>2019-04-19 05:37:35</td>\n",
       "      <td>PONFERRADA</td>\n",
       "      <td>MADRID</td>\n",
       "      <td>2019-06-02 15:00:00</td>\n",
       "      <td>2019-06-02 19:42:00</td>\n",
       "      <td>MD-AVE</td>\n",
       "      <td>59.50</td>\n",
       "      <td>Turista con enlace</td>\n",
       "      <td>Flexible</td>\n",
       "      <td>4.700000</td>\n",
       "      <td>15</td>\n",
       "      <td>19</td>\n",
       "    </tr>\n",
       "    <tr>\n",
       "      <th>1</th>\n",
       "      <td>2019-04-19 05:37:35</td>\n",
       "      <td>PONFERRADA</td>\n",
       "      <td>MADRID</td>\n",
       "      <td>2019-06-02 17:15:00</td>\n",
       "      <td>2019-06-02 23:03:00</td>\n",
       "      <td>MD-AVE</td>\n",
       "      <td>34.65</td>\n",
       "      <td>Turista con enlace</td>\n",
       "      <td>Promo +</td>\n",
       "      <td>5.800000</td>\n",
       "      <td>17</td>\n",
       "      <td>23</td>\n",
       "    </tr>\n",
       "    <tr>\n",
       "      <th>2</th>\n",
       "      <td>2019-04-19 05:37:35</td>\n",
       "      <td>PONFERRADA</td>\n",
       "      <td>MADRID</td>\n",
       "      <td>2019-06-02 17:15:00</td>\n",
       "      <td>2019-06-02 23:10:00</td>\n",
       "      <td>MD-LD</td>\n",
       "      <td>39.95</td>\n",
       "      <td>Turista con enlace</td>\n",
       "      <td>Promo +</td>\n",
       "      <td>5.916667</td>\n",
       "      <td>17</td>\n",
       "      <td>23</td>\n",
       "    </tr>\n",
       "    <tr>\n",
       "      <th>3</th>\n",
       "      <td>2019-04-19 05:37:35</td>\n",
       "      <td>PONFERRADA</td>\n",
       "      <td>MADRID</td>\n",
       "      <td>2019-06-02 17:15:00</td>\n",
       "      <td>2019-06-02 22:14:00</td>\n",
       "      <td>MD-AVE</td>\n",
       "      <td>40.60</td>\n",
       "      <td>Turista con enlace</td>\n",
       "      <td>Promo +</td>\n",
       "      <td>4.983333</td>\n",
       "      <td>17</td>\n",
       "      <td>22</td>\n",
       "    </tr>\n",
       "    <tr>\n",
       "      <th>4</th>\n",
       "      <td>2019-04-19 05:37:35</td>\n",
       "      <td>PONFERRADA</td>\n",
       "      <td>MADRID</td>\n",
       "      <td>2019-06-02 18:55:00</td>\n",
       "      <td>2019-06-02 23:03:00</td>\n",
       "      <td>ALVIA</td>\n",
       "      <td>27.90</td>\n",
       "      <td>Turista</td>\n",
       "      <td>Promo</td>\n",
       "      <td>4.133333</td>\n",
       "      <td>18</td>\n",
       "      <td>23</td>\n",
       "    </tr>\n",
       "  </tbody>\n",
       "</table>\n",
       "</div>"
      ],
      "text/plain": [
       "           insert_date      origin destination          start_date  \\\n",
       "0  2019-04-19 05:37:35  PONFERRADA      MADRID 2019-06-02 15:00:00   \n",
       "1  2019-04-19 05:37:35  PONFERRADA      MADRID 2019-06-02 17:15:00   \n",
       "2  2019-04-19 05:37:35  PONFERRADA      MADRID 2019-06-02 17:15:00   \n",
       "3  2019-04-19 05:37:35  PONFERRADA      MADRID 2019-06-02 17:15:00   \n",
       "4  2019-04-19 05:37:35  PONFERRADA      MADRID 2019-06-02 18:55:00   \n",
       "\n",
       "             end_date train_type  price         train_class      fare  \\\n",
       "0 2019-06-02 19:42:00     MD-AVE  59.50  Turista con enlace  Flexible   \n",
       "1 2019-06-02 23:03:00     MD-AVE  34.65  Turista con enlace   Promo +   \n",
       "2 2019-06-02 23:10:00      MD-LD  39.95  Turista con enlace   Promo +   \n",
       "3 2019-06-02 22:14:00     MD-AVE  40.60  Turista con enlace   Promo +   \n",
       "4 2019-06-02 23:03:00      ALVIA  27.90             Turista     Promo   \n",
       "\n",
       "   travel_time_in_hrs  starting_hour  ending_hour  \n",
       "0            4.700000             15           19  \n",
       "1            5.800000             17           23  \n",
       "2            5.916667             17           23  \n",
       "3            4.983333             17           22  \n",
       "4            4.133333             18           23  "
      ]
     },
     "execution_count": 30,
     "metadata": {},
     "output_type": "execute_result"
    }
   ],
   "source": [
    "df['starting_hour'] = df['start_date'].dt.hour\n",
    "df['ending_hour'] = df['end_date'].dt.hour\n",
    "df.head()"
   ]
  },
  {
   "cell_type": "markdown",
   "metadata": {},
   "source": [
    "Now we want to see the relation between newly created features with price"
   ]
  },
  {
   "cell_type": "markdown",
   "metadata": {},
   "source": [
    "#### starting_hour vs Price"
   ]
  },
  {
   "cell_type": "code",
   "execution_count": 31,
   "metadata": {
    "scrolled": false
   },
   "outputs": [
    {
     "data": {
      "image/png": "[encoded data removed]",
      "text/plain": [
       "<Figure size 1080x432 with 1 Axes>"
      ]
     },
     "metadata": {
      "needs_background": "light"
     },
     "output_type": "display_data"
    }
   ],
   "source": [
    "plt.figure(figsize=(15,6))\n",
    "sns.regplot(x=\"starting_hour\", y=\"price\", data=df);\n",
    "plt.xlabel('Starting Time', {'fontsize': 15})\n",
    "plt.ylabel('Price', {'fontsize': 15})\n",
    "plt.title('Price vs Starting Time', {'fontsize': 15})\n",
    "plt.show()"
   ]
  },
  {
   "cell_type": "code",
   "execution_count": 32,
   "metadata": {},
   "outputs": [
    {
     "data": {
      "image/png": "[encoded data removed]",
      "text/plain": [
       "<Figure size 1080x432 with 1 Axes>"
      ]
     },
     "metadata": {
      "needs_background": "light"
     },
     "output_type": "display_data"
    }
   ],
   "source": [
    "from scipy.stats import norm\n",
    "plt.subplots(figsize=(15,6))\n",
    "sns.distplot(df['starting_hour'], fit=norm)\n",
    "plt.xlabel('Starting Hour', {'fontsize': 15})\n",
    "plt.title('Distribution of Journey Starting Time', {'fontsize': 15})\n",
    "plt.show()"
   ]
  },
  {
   "cell_type": "markdown",
   "metadata": {},
   "source": [
    "#### ending_hour vs Price"
   ]
  },
  {
   "cell_type": "code",
   "execution_count": 33,
   "metadata": {},
   "outputs": [
    {
     "data": {
      "image/png": "[encoded data removed]",
      "text/plain": [
       "<Figure size 1080x432 with 1 Axes>"
      ]
     },
     "metadata": {
      "needs_background": "light"
     },
     "output_type": "display_data"
    }
   ],
   "source": [
    "plt.figure(figsize=(15,6))\n",
    "sns.regplot(x=\"ending_hour\", y=\"price\", data=df);\n",
    "plt.xlabel('Ending Hour', {'fontsize': 15})\n",
    "plt.ylabel('Price', {'fontsize': 15})\n",
    "plt.title('Price vs Ending Hour', {'fontsize': 15})\n",
    "plt.show()"
   ]
  },
  {
   "cell_type": "code",
   "execution_count": 34,
   "metadata": {
    "scrolled": false
   },
   "outputs": [
    {
     "data": {
      "image/png": "[encoded data removed]",
      "text/plain": [
       "<Figure size 1080x432 with 1 Axes>"
      ]
     },
     "metadata": {
      "needs_background": "light"
     },
     "output_type": "display_data"
    }
   ],
   "source": [
    "from scipy.stats import norm\n",
    "plt.subplots(figsize=(15,6))\n",
    "sns.distplot(df['ending_hour'], fit=norm)\n",
    "plt.xlabel('Ending Hour', {'fontsize': 15})\n",
    "plt.title('Distribution of Journey Ending Time', {'fontsize': 15})\n",
    "plt.show()"
   ]
  },
  {
   "cell_type": "markdown",
   "metadata": {},
   "source": [
    "### Observations\n",
    "First we created two new features from start date and end date.\n",
    "Then we tried to find the correlation between these features, for staring time correlation is positive but for travel time and ending correlation seems negative for whole data."
   ]
  },
  {
   "cell_type": "markdown",
   "metadata": {},
   "source": [
    "#### Removing redundant features\n"
   ]
  },
  {
   "cell_type": "markdown",
   "metadata": {},
   "source": [
    "So now we get rid of those features which may not help us in our prediction model"
   ]
  },
  {
   "cell_type": "code",
   "execution_count": 35,
   "metadata": {
    "scrolled": false
   },
   "outputs": [
    {
     "data": {
      "text/html": [
       "<div>\n",
       "<style scoped>\n",
       "    .dataframe tbody tr th:only-of-type {\n",
       "        vertical-align: middle;\n",
       "    }\n",
       "\n",
       "    .dataframe tbody tr th {\n",
       "        vertical-align: top;\n",
       "    }\n",
       "\n",
       "    .dataframe thead th {\n",
       "        text-align: right;\n",
       "    }\n",
       "</style>\n",
       "<table border=\"1\" class=\"dataframe\">\n",
       "  <thead>\n",
       "    <tr style=\"text-align: right;\">\n",
       "      <th></th>\n",
       "      <th>origin</th>\n",
       "      <th>destination</th>\n",
       "      <th>train_type</th>\n",
       "      <th>price</th>\n",
       "      <th>train_class</th>\n",
       "      <th>fare</th>\n",
       "      <th>travel_time_in_hrs</th>\n",
       "      <th>starting_hour</th>\n",
       "      <th>ending_hour</th>\n",
       "    </tr>\n",
       "  </thead>\n",
       "  <tbody>\n",
       "    <tr>\n",
       "      <th>0</th>\n",
       "      <td>PONFERRADA</td>\n",
       "      <td>MADRID</td>\n",
       "      <td>MD-AVE</td>\n",
       "      <td>59.50</td>\n",
       "      <td>Turista con enlace</td>\n",
       "      <td>Flexible</td>\n",
       "      <td>4.700000</td>\n",
       "      <td>15</td>\n",
       "      <td>19</td>\n",
       "    </tr>\n",
       "    <tr>\n",
       "      <th>1</th>\n",
       "      <td>PONFERRADA</td>\n",
       "      <td>MADRID</td>\n",
       "      <td>MD-AVE</td>\n",
       "      <td>34.65</td>\n",
       "      <td>Turista con enlace</td>\n",
       "      <td>Promo +</td>\n",
       "      <td>5.800000</td>\n",
       "      <td>17</td>\n",
       "      <td>23</td>\n",
       "    </tr>\n",
       "    <tr>\n",
       "      <th>2</th>\n",
       "      <td>PONFERRADA</td>\n",
       "      <td>MADRID</td>\n",
       "      <td>MD-LD</td>\n",
       "      <td>39.95</td>\n",
       "      <td>Turista con enlace</td>\n",
       "      <td>Promo +</td>\n",
       "      <td>5.916667</td>\n",
       "      <td>17</td>\n",
       "      <td>23</td>\n",
       "    </tr>\n",
       "    <tr>\n",
       "      <th>3</th>\n",
       "      <td>PONFERRADA</td>\n",
       "      <td>MADRID</td>\n",
       "      <td>MD-AVE</td>\n",
       "      <td>40.60</td>\n",
       "      <td>Turista con enlace</td>\n",
       "      <td>Promo +</td>\n",
       "      <td>4.983333</td>\n",
       "      <td>17</td>\n",
       "      <td>22</td>\n",
       "    </tr>\n",
       "    <tr>\n",
       "      <th>4</th>\n",
       "      <td>PONFERRADA</td>\n",
       "      <td>MADRID</td>\n",
       "      <td>ALVIA</td>\n",
       "      <td>27.90</td>\n",
       "      <td>Turista</td>\n",
       "      <td>Promo</td>\n",
       "      <td>4.133333</td>\n",
       "      <td>18</td>\n",
       "      <td>23</td>\n",
       "    </tr>\n",
       "  </tbody>\n",
       "</table>\n",
       "</div>"
      ],
      "text/plain": [
       "       origin destination train_type  price         train_class      fare  \\\n",
       "0  PONFERRADA      MADRID     MD-AVE  59.50  Turista con enlace  Flexible   \n",
       "1  PONFERRADA      MADRID     MD-AVE  34.65  Turista con enlace   Promo +   \n",
       "2  PONFERRADA      MADRID      MD-LD  39.95  Turista con enlace   Promo +   \n",
       "3  PONFERRADA      MADRID     MD-AVE  40.60  Turista con enlace   Promo +   \n",
       "4  PONFERRADA      MADRID      ALVIA  27.90             Turista     Promo   \n",
       "\n",
       "   travel_time_in_hrs  starting_hour  ending_hour  \n",
       "0            4.700000             15           19  \n",
       "1            5.800000             17           23  \n",
       "2            5.916667             17           23  \n",
       "3            4.983333             17           22  \n",
       "4            4.133333             18           23  "
      ]
     },
     "execution_count": 35,
     "metadata": {},
     "output_type": "execute_result"
    }
   ],
   "source": [
    "df.drop(['start_date','end_date', 'insert_date'],axis=1,inplace=True)\n",
    "df.head()"
   ]
  },
  {
   "cell_type": "markdown",
   "metadata": {},
   "source": [
    "We now need to find out the pricing from 'MADRID' to other destinations. We also need to find out time which each train requires for travelling. "
   ]
  },
  {
   "cell_type": "markdown",
   "metadata": {},
   "source": [
    "## **Travelling from MADRID to SEVILLA**"
   ]
  },
  {
   "cell_type": "markdown",
   "metadata": {},
   "source": [
    "#### People travelling from MADRID to SEVILLA"
   ]
  },
  {
   "cell_type": "code",
   "execution_count": 36,
   "metadata": {
    "scrolled": false
   },
   "outputs": [
    {
     "data": {
      "text/html": [
       "<div>\n",
       "<style scoped>\n",
       "    .dataframe tbody tr th:only-of-type {\n",
       "        vertical-align: middle;\n",
       "    }\n",
       "\n",
       "    .dataframe tbody tr th {\n",
       "        vertical-align: top;\n",
       "    }\n",
       "\n",
       "    .dataframe thead th {\n",
       "        text-align: right;\n",
       "    }\n",
       "</style>\n",
       "<table border=\"1\" class=\"dataframe\">\n",
       "  <thead>\n",
       "    <tr style=\"text-align: right;\">\n",
       "      <th></th>\n",
       "      <th>origin</th>\n",
       "      <th>destination</th>\n",
       "      <th>train_type</th>\n",
       "      <th>price</th>\n",
       "      <th>train_class</th>\n",
       "      <th>fare</th>\n",
       "      <th>travel_time_in_hrs</th>\n",
       "      <th>starting_hour</th>\n",
       "      <th>ending_hour</th>\n",
       "    </tr>\n",
       "  </thead>\n",
       "  <tbody>\n",
       "    <tr>\n",
       "      <th>364</th>\n",
       "      <td>MADRID</td>\n",
       "      <td>SEVILLA</td>\n",
       "      <td>AV City</td>\n",
       "      <td>49.150000</td>\n",
       "      <td>Turista</td>\n",
       "      <td>Promo</td>\n",
       "      <td>2.916667</td>\n",
       "      <td>7</td>\n",
       "      <td>9</td>\n",
       "    </tr>\n",
       "    <tr>\n",
       "      <th>365</th>\n",
       "      <td>MADRID</td>\n",
       "      <td>SEVILLA</td>\n",
       "      <td>ALVIA</td>\n",
       "      <td>56.723877</td>\n",
       "      <td>Preferente</td>\n",
       "      <td>Promo</td>\n",
       "      <td>2.733333</td>\n",
       "      <td>8</td>\n",
       "      <td>11</td>\n",
       "    </tr>\n",
       "    <tr>\n",
       "      <th>366</th>\n",
       "      <td>MADRID</td>\n",
       "      <td>SEVILLA</td>\n",
       "      <td>AVE</td>\n",
       "      <td>69.400000</td>\n",
       "      <td>Preferente</td>\n",
       "      <td>Promo</td>\n",
       "      <td>2.633333</td>\n",
       "      <td>9</td>\n",
       "      <td>11</td>\n",
       "    </tr>\n",
       "    <tr>\n",
       "      <th>367</th>\n",
       "      <td>MADRID</td>\n",
       "      <td>SEVILLA</td>\n",
       "      <td>AVE</td>\n",
       "      <td>76.300000</td>\n",
       "      <td>Turista</td>\n",
       "      <td>Flexible</td>\n",
       "      <td>2.533333</td>\n",
       "      <td>11</td>\n",
       "      <td>13</td>\n",
       "    </tr>\n",
       "    <tr>\n",
       "      <th>368</th>\n",
       "      <td>MADRID</td>\n",
       "      <td>SEVILLA</td>\n",
       "      <td>ALVIA</td>\n",
       "      <td>56.723877</td>\n",
       "      <td>Preferente</td>\n",
       "      <td>Promo</td>\n",
       "      <td>2.600000</td>\n",
       "      <td>11</td>\n",
       "      <td>13</td>\n",
       "    </tr>\n",
       "  </tbody>\n",
       "</table>\n",
       "</div>"
      ],
      "text/plain": [
       "     origin destination train_type      price train_class      fare  \\\n",
       "364  MADRID     SEVILLA    AV City  49.150000     Turista     Promo   \n",
       "365  MADRID     SEVILLA      ALVIA  56.723877  Preferente     Promo   \n",
       "366  MADRID     SEVILLA        AVE  69.400000  Preferente     Promo   \n",
       "367  MADRID     SEVILLA        AVE  76.300000     Turista  Flexible   \n",
       "368  MADRID     SEVILLA      ALVIA  56.723877  Preferente     Promo   \n",
       "\n",
       "     travel_time_in_hrs  starting_hour  ending_hour  \n",
       "364            2.916667              7            9  \n",
       "365            2.733333              8           11  \n",
       "366            2.633333              9           11  \n",
       "367            2.533333             11           13  \n",
       "368            2.600000             11           13  "
      ]
     },
     "execution_count": 36,
     "metadata": {},
     "output_type": "execute_result"
    }
   ],
   "source": [
    "df1 = df[(df['origin']=='MADRID') & (df['destination']=='SEVILLA')]\n",
    "df1.head()"
   ]
  },
  {
   "cell_type": "markdown",
   "metadata": {},
   "source": [
    "#### Finding out travelling hours for each train type"
   ]
  },
  {
   "cell_type": "code",
   "execution_count": 37,
   "metadata": {
    "scrolled": false
   },
   "outputs": [
    {
     "data": {
      "image/png": "[encoded data removed]",
      "text/plain": [
       "<Figure size 1080x432 with 1 Axes>"
      ]
     },
     "metadata": {
      "needs_background": "light"
     },
     "output_type": "display_data"
    }
   ],
   "source": [
    "plt.figure(figsize=(15, 6))\n",
    "sns.barplot(x='train_type', y='travel_time_in_hrs', data=df1)\n",
    "plt.xlabel('Train Type', fontsize=15)\n",
    "plt.ylabel('Travel time (hrs)', fontsize=15)\n",
    "plt.title('Travel Time vs Train Type (Madrid to Sevilla)', fontsize=15)\n",
    "\n",
    "plt.show()"
   ]
  },
  {
   "cell_type": "markdown",
   "metadata": {},
   "source": [
    "#### train_type vs price"
   ]
  },
  {
   "cell_type": "code",
   "execution_count": 38,
   "metadata": {
    "scrolled": false
   },
   "outputs": [
    {
     "data": {
      "image/png": "[encoded data removed]",
      "text/plain": [
       "<Figure size 1080x432 with 1 Axes>"
      ]
     },
     "metadata": {
      "needs_background": "light"
     },
     "output_type": "display_data"
    }
   ],
   "source": [
    "plt.figure(figsize=[15,6])\n",
    "sns.boxplot(x='train_type', y= 'price', data =df1)\n",
    "plt.xlabel('Train Type', fontsize=15)\n",
    "plt.ylabel('Price', fontsize=15)\n",
    "plt.title('Train Type vs Price (Madrid to Sevilla)', fontsize=15)\n",
    "plt.show()"
   ]
  },
  {
   "cell_type": "markdown",
   "metadata": {},
   "source": [
    "#### Fare Type vs Price"
   ]
  },
  {
   "cell_type": "code",
   "execution_count": 39,
   "metadata": {
    "scrolled": false
   },
   "outputs": [
    {
     "data": {
      "image/png": "[encoded data removed]",
      "text/plain": [
       "<Figure size 1080x432 with 1 Axes>"
      ]
     },
     "metadata": {
      "needs_background": "light"
     },
     "output_type": "display_data"
    }
   ],
   "source": [
    "plt.figure(figsize=[15,6])\n",
    "sns.boxplot(x=\"fare\", y=\"price\", data=df1);\n",
    "plt.xlabel('Fare Type', fontsize=15)\n",
    "plt.ylabel('Price', fontsize=15)\n",
    "plt.title('Fare Type vs Price (Madrid to Sevilla)', fontsize=15)\n",
    "plt.show()"
   ]
  },
  {
   "cell_type": "markdown",
   "metadata": {},
   "source": [
    "From the above graph, we can see that fastest train trvelling from Madrid to Sevilla is Type **AVE**, it is also the expensive one. It takes 2 and half hours to reach its destination. Whereas the slowest train is **MD-LD**, taking more than 7 and half hrs and is cheap as well. Only 3 types of fares are used, with **Flexible** fare type being the expensive. "
   ]
  },
  {
   "cell_type": "markdown",
   "metadata": {},
   "source": [
    "## **Travelling from MADRID to BARCELONA**\n"
   ]
  },
  {
   "cell_type": "markdown",
   "metadata": {},
   "source": [
    "#### People travelling from MADRID to BARCELONA"
   ]
  },
  {
   "cell_type": "code",
   "execution_count": 40,
   "metadata": {},
   "outputs": [
    {
     "data": {
      "text/html": [
       "<div>\n",
       "<style scoped>\n",
       "    .dataframe tbody tr th:only-of-type {\n",
       "        vertical-align: middle;\n",
       "    }\n",
       "\n",
       "    .dataframe tbody tr th {\n",
       "        vertical-align: top;\n",
       "    }\n",
       "\n",
       "    .dataframe thead th {\n",
       "        text-align: right;\n",
       "    }\n",
       "</style>\n",
       "<table border=\"1\" class=\"dataframe\">\n",
       "  <thead>\n",
       "    <tr style=\"text-align: right;\">\n",
       "      <th></th>\n",
       "      <th>origin</th>\n",
       "      <th>destination</th>\n",
       "      <th>train_type</th>\n",
       "      <th>price</th>\n",
       "      <th>train_class</th>\n",
       "      <th>fare</th>\n",
       "      <th>travel_time_in_hrs</th>\n",
       "      <th>starting_hour</th>\n",
       "      <th>ending_hour</th>\n",
       "    </tr>\n",
       "  </thead>\n",
       "  <tbody>\n",
       "    <tr>\n",
       "      <th>79</th>\n",
       "      <td>MADRID</td>\n",
       "      <td>BARCELONA</td>\n",
       "      <td>R. EXPRES</td>\n",
       "      <td>43.25</td>\n",
       "      <td>Turista</td>\n",
       "      <td>Adulto ida</td>\n",
       "      <td>9.366667</td>\n",
       "      <td>7</td>\n",
       "      <td>16</td>\n",
       "    </tr>\n",
       "    <tr>\n",
       "      <th>80</th>\n",
       "      <td>MADRID</td>\n",
       "      <td>BARCELONA</td>\n",
       "      <td>R. EXPRES</td>\n",
       "      <td>43.25</td>\n",
       "      <td>Turista</td>\n",
       "      <td>Adulto ida</td>\n",
       "      <td>9.366667</td>\n",
       "      <td>7</td>\n",
       "      <td>16</td>\n",
       "    </tr>\n",
       "    <tr>\n",
       "      <th>81</th>\n",
       "      <td>MADRID</td>\n",
       "      <td>BARCELONA</td>\n",
       "      <td>R. EXPRES</td>\n",
       "      <td>43.25</td>\n",
       "      <td>Turista</td>\n",
       "      <td>Adulto ida</td>\n",
       "      <td>9.366667</td>\n",
       "      <td>7</td>\n",
       "      <td>16</td>\n",
       "    </tr>\n",
       "    <tr>\n",
       "      <th>82</th>\n",
       "      <td>MADRID</td>\n",
       "      <td>BARCELONA</td>\n",
       "      <td>R. EXPRES</td>\n",
       "      <td>43.25</td>\n",
       "      <td>Turista</td>\n",
       "      <td>Adulto ida</td>\n",
       "      <td>9.366667</td>\n",
       "      <td>7</td>\n",
       "      <td>16</td>\n",
       "    </tr>\n",
       "    <tr>\n",
       "      <th>83</th>\n",
       "      <td>MADRID</td>\n",
       "      <td>BARCELONA</td>\n",
       "      <td>AVE</td>\n",
       "      <td>66.75</td>\n",
       "      <td>Turista</td>\n",
       "      <td>Promo</td>\n",
       "      <td>3.150000</td>\n",
       "      <td>6</td>\n",
       "      <td>9</td>\n",
       "    </tr>\n",
       "  </tbody>\n",
       "</table>\n",
       "</div>"
      ],
      "text/plain": [
       "    origin destination train_type  price train_class        fare  \\\n",
       "79  MADRID   BARCELONA  R. EXPRES  43.25     Turista  Adulto ida   \n",
       "80  MADRID   BARCELONA  R. EXPRES  43.25     Turista  Adulto ida   \n",
       "81  MADRID   BARCELONA  R. EXPRES  43.25     Turista  Adulto ida   \n",
       "82  MADRID   BARCELONA  R. EXPRES  43.25     Turista  Adulto ida   \n",
       "83  MADRID   BARCELONA        AVE  66.75     Turista       Promo   \n",
       "\n",
       "    travel_time_in_hrs  starting_hour  ending_hour  \n",
       "79            9.366667              7           16  \n",
       "80            9.366667              7           16  \n",
       "81            9.366667              7           16  \n",
       "82            9.366667              7           16  \n",
       "83            3.150000              6            9  "
      ]
     },
     "execution_count": 40,
     "metadata": {},
     "output_type": "execute_result"
    }
   ],
   "source": [
    "df1 = df[(df['origin']=='MADRID') & (df['destination']=='BARCELONA')]\n",
    "df1.head()"
   ]
  },
  {
   "cell_type": "markdown",
   "metadata": {},
   "source": [
    "#### Finding out travelling hours for each train type"
   ]
  },
  {
   "cell_type": "code",
   "execution_count": 41,
   "metadata": {
    "scrolled": false
   },
   "outputs": [
    {
     "data": {
      "image/png": "[encoded data removed]",
      "text/plain": [
       "<Figure size 1080x432 with 1 Axes>"
      ]
     },
     "metadata": {
      "needs_background": "light"
     },
     "output_type": "display_data"
    }
   ],
   "source": [
    "plt.figure(figsize=(15,6))\n",
    "sns.barplot(x='train_type', y= 'travel_time_in_hrs', data= df1)\n",
    "plt.xlabel('Train Type', fontsize=15)\n",
    "plt.ylabel('Travel time (hrs)', fontsize=15)\n",
    "plt.title('Travel Time vs Train Type (Madrid to Barcelona)', fontsize=15)\n",
    "plt.show()"
   ]
  },
  {
   "cell_type": "markdown",
   "metadata": {},
   "source": [
    "#### train_type vs price"
   ]
  },
  {
   "cell_type": "code",
   "execution_count": 42,
   "metadata": {
    "scrolled": false
   },
   "outputs": [
    {
     "data": {
      "image/png": "[encoded data removed]",
      "text/plain": [
       "<Figure size 1080x432 with 1 Axes>"
      ]
     },
     "metadata": {
      "needs_background": "light"
     },
     "output_type": "display_data"
    }
   ],
   "source": [
    "plt.figure(figsize=(15,6))\n",
    "sns.boxplot(x='train_type', y='price', data= df1)\n",
    "plt.xlabel('Train Type', fontsize=15)\n",
    "plt.ylabel('Price', fontsize=15)\n",
    "plt.title('Train Type vs Price (Madrid to Barcelona)', fontsize=15)\n",
    "plt.show()"
   ]
  },
  {
   "cell_type": "markdown",
   "metadata": {},
   "source": [
    "#### Fare Type vs Price"
   ]
  },
  {
   "cell_type": "code",
   "execution_count": 43,
   "metadata": {
    "scrolled": false
   },
   "outputs": [
    {
     "data": {
      "image/png": "[encoded data removed]",
      "text/plain": [
       "<Figure size 1080x432 with 1 Axes>"
      ]
     },
     "metadata": {
      "needs_background": "light"
     },
     "output_type": "display_data"
    }
   ],
   "source": [
    "plt.figure(figsize=(15,6))\n",
    "sns.boxplot(x=\"fare\", y=\"price\", data=df1);\n",
    "plt.xlabel('Fare Type', fontsize=15)\n",
    "plt.ylabel('Price', fontsize=15)\n",
    "plt.title('Fare Type vs Price (Madrid to Barcelona)', fontsize=15)\n",
    "plt.show()"
   ]
  },
  {
   "cell_type": "markdown",
   "metadata": {},
   "source": [
    "From the above graph, we can see that fastest train is **AVE** slightly better than **AVE-TGV**. Both train take about 2-3 hrs to reach final destination. **R.Express** takes max time(approx 9 hrs) and is cheap as well. **Mesa** fare type is most expensive."
   ]
  },
  {
   "cell_type": "markdown",
   "metadata": {},
   "source": [
    "## **Travelling from MADRID to VALENCIA**"
   ]
  },
  {
   "cell_type": "markdown",
   "metadata": {},
   "source": [
    "#### People travelling from MADRID to VALENCIA"
   ]
  },
  {
   "cell_type": "code",
   "execution_count": 44,
   "metadata": {},
   "outputs": [
    {
     "data": {
      "text/html": [
       "<div>\n",
       "<style scoped>\n",
       "    .dataframe tbody tr th:only-of-type {\n",
       "        vertical-align: middle;\n",
       "    }\n",
       "\n",
       "    .dataframe tbody tr th {\n",
       "        vertical-align: top;\n",
       "    }\n",
       "\n",
       "    .dataframe thead th {\n",
       "        text-align: right;\n",
       "    }\n",
       "</style>\n",
       "<table border=\"1\" class=\"dataframe\">\n",
       "  <thead>\n",
       "    <tr style=\"text-align: right;\">\n",
       "      <th></th>\n",
       "      <th>origin</th>\n",
       "      <th>destination</th>\n",
       "      <th>train_type</th>\n",
       "      <th>price</th>\n",
       "      <th>train_class</th>\n",
       "      <th>fare</th>\n",
       "      <th>travel_time_in_hrs</th>\n",
       "      <th>starting_hour</th>\n",
       "      <th>ending_hour</th>\n",
       "    </tr>\n",
       "  </thead>\n",
       "  <tbody>\n",
       "    <tr>\n",
       "      <th>5</th>\n",
       "      <td>MADRID</td>\n",
       "      <td>VALENCIA</td>\n",
       "      <td>REGIONAL</td>\n",
       "      <td>28.35</td>\n",
       "      <td>Turista</td>\n",
       "      <td>Adulto ida</td>\n",
       "      <td>6.783333</td>\n",
       "      <td>6</td>\n",
       "      <td>12</td>\n",
       "    </tr>\n",
       "    <tr>\n",
       "      <th>6</th>\n",
       "      <td>MADRID</td>\n",
       "      <td>VALENCIA</td>\n",
       "      <td>REGIONAL</td>\n",
       "      <td>28.35</td>\n",
       "      <td>Turista</td>\n",
       "      <td>Adulto ida</td>\n",
       "      <td>6.716667</td>\n",
       "      <td>12</td>\n",
       "      <td>19</td>\n",
       "    </tr>\n",
       "    <tr>\n",
       "      <th>7</th>\n",
       "      <td>MADRID</td>\n",
       "      <td>VALENCIA</td>\n",
       "      <td>REGIONAL</td>\n",
       "      <td>28.35</td>\n",
       "      <td>Turista</td>\n",
       "      <td>Adulto ida</td>\n",
       "      <td>6.700000</td>\n",
       "      <td>16</td>\n",
       "      <td>22</td>\n",
       "    </tr>\n",
       "    <tr>\n",
       "      <th>8</th>\n",
       "      <td>MADRID</td>\n",
       "      <td>VALENCIA</td>\n",
       "      <td>REGIONAL</td>\n",
       "      <td>28.35</td>\n",
       "      <td>Turista</td>\n",
       "      <td>Adulto ida</td>\n",
       "      <td>6.583333</td>\n",
       "      <td>6</td>\n",
       "      <td>12</td>\n",
       "    </tr>\n",
       "    <tr>\n",
       "      <th>9</th>\n",
       "      <td>MADRID</td>\n",
       "      <td>VALENCIA</td>\n",
       "      <td>REGIONAL</td>\n",
       "      <td>28.35</td>\n",
       "      <td>Turista</td>\n",
       "      <td>Adulto ida</td>\n",
       "      <td>6.366667</td>\n",
       "      <td>12</td>\n",
       "      <td>19</td>\n",
       "    </tr>\n",
       "  </tbody>\n",
       "</table>\n",
       "</div>"
      ],
      "text/plain": [
       "   origin destination train_type  price train_class        fare  \\\n",
       "5  MADRID    VALENCIA   REGIONAL  28.35     Turista  Adulto ida   \n",
       "6  MADRID    VALENCIA   REGIONAL  28.35     Turista  Adulto ida   \n",
       "7  MADRID    VALENCIA   REGIONAL  28.35     Turista  Adulto ida   \n",
       "8  MADRID    VALENCIA   REGIONAL  28.35     Turista  Adulto ida   \n",
       "9  MADRID    VALENCIA   REGIONAL  28.35     Turista  Adulto ida   \n",
       "\n",
       "   travel_time_in_hrs  starting_hour  ending_hour  \n",
       "5            6.783333              6           12  \n",
       "6            6.716667             12           19  \n",
       "7            6.700000             16           22  \n",
       "8            6.583333              6           12  \n",
       "9            6.366667             12           19  "
      ]
     },
     "execution_count": 44,
     "metadata": {},
     "output_type": "execute_result"
    }
   ],
   "source": [
    "df1 = df[(df['origin']=='MADRID') & (df['destination']=='VALENCIA')]\n",
    "df1.head()"
   ]
  },
  {
   "cell_type": "markdown",
   "metadata": {},
   "source": [
    "#### Finding out travelling hours for each train type"
   ]
  },
  {
   "cell_type": "code",
   "execution_count": 45,
   "metadata": {
    "scrolled": false
   },
   "outputs": [
    {
     "data": {
      "image/png": "[encoded data removed]",
      "text/plain": [
       "<Figure size 1080x432 with 1 Axes>"
      ]
     },
     "metadata": {
      "needs_background": "light"
     },
     "output_type": "display_data"
    }
   ],
   "source": [
    "plt.figure(figsize=(15, 6))\n",
    "sns.barplot(x='train_type', y='travel_time_in_hrs', data=df1)\n",
    "plt.xlabel('Train Type', fontsize=15)\n",
    "plt.ylabel('Travel time (hrs)', fontsize=15)\n",
    "plt.title('Travel Time vs Train Type (Madrid to Valencia)', fontsize=15)\n",
    "plt.show()"
   ]
  },
  {
   "cell_type": "markdown",
   "metadata": {},
   "source": [
    "#### train_type vs price"
   ]
  },
  {
   "cell_type": "code",
   "execution_count": 46,
   "metadata": {
    "scrolled": false
   },
   "outputs": [
    {
     "data": {
      "image/png": "[encoded data removed]",
      "text/plain": [
       "<Figure size 1080x432 with 1 Axes>"
      ]
     },
     "metadata": {
      "needs_background": "light"
     },
     "output_type": "display_data"
    }
   ],
   "source": [
    "plt.figure(figsize=[15,6])\n",
    "sns.boxplot(x=\"train_type\", y=\"price\", data=df1);\n",
    "plt.xlabel('Train Type', fontsize=15)\n",
    "plt.ylabel('Price', fontsize=15)\n",
    "plt.title('Train Type vs Price (Madrid to Valencia)', fontsize=15)\n",
    "plt.show()"
   ]
  },
  {
   "cell_type": "markdown",
   "metadata": {},
   "source": [
    "#### fare_type vs price"
   ]
  },
  {
   "cell_type": "code",
   "execution_count": 47,
   "metadata": {},
   "outputs": [
    {
     "data": {
      "image/png": "[encoded data removed]",
      "text/plain": [
       "<Figure size 1080x432 with 1 Axes>"
      ]
     },
     "metadata": {
      "needs_background": "light"
     },
     "output_type": "display_data"
    }
   ],
   "source": [
    "plt.figure(figsize=(15,6))\n",
    "sns.boxplot(x=\"fare\", y=\"price\", data=df1);\n",
    "plt.xlabel('Fare Type', fontsize=15)\n",
    "plt.ylabel('Price', fontsize=15)\n",
    "plt.title('Fare Type vs Price (Madrid to Valencia)', fontsize=15)\n",
    "plt.show()"
   ]
  },
  {
   "cell_type": "markdown",
   "metadata": {},
   "source": [
    "From the above graph we can find that, **AVE** takes less time to reach its destination, but is not expensive as comapred to **AVE-MD** which is taking the max time 7 hrs to reach its destination. **Regional** train also takes close to 7 hrs time to reach destination but is cheap. When it comes to fare **Flexible** fare type is the most expensive"
   ]
  },
  {
   "cell_type": "markdown",
   "metadata": {},
   "source": [
    "## **Travelling from MADRID to PONFERRADA**"
   ]
  },
  {
   "cell_type": "markdown",
   "metadata": {},
   "source": [
    "#### People travelling from MADRID to PONFERRADA"
   ]
  },
  {
   "cell_type": "code",
   "execution_count": 48,
   "metadata": {},
   "outputs": [
    {
     "data": {
      "text/html": [
       "<div>\n",
       "<style scoped>\n",
       "    .dataframe tbody tr th:only-of-type {\n",
       "        vertical-align: middle;\n",
       "    }\n",
       "\n",
       "    .dataframe tbody tr th {\n",
       "        vertical-align: top;\n",
       "    }\n",
       "\n",
       "    .dataframe thead th {\n",
       "        text-align: right;\n",
       "    }\n",
       "</style>\n",
       "<table border=\"1\" class=\"dataframe\">\n",
       "  <thead>\n",
       "    <tr style=\"text-align: right;\">\n",
       "      <th></th>\n",
       "      <th>origin</th>\n",
       "      <th>destination</th>\n",
       "      <th>train_type</th>\n",
       "      <th>price</th>\n",
       "      <th>train_class</th>\n",
       "      <th>fare</th>\n",
       "      <th>travel_time_in_hrs</th>\n",
       "      <th>starting_hour</th>\n",
       "      <th>ending_hour</th>\n",
       "    </tr>\n",
       "  </thead>\n",
       "  <tbody>\n",
       "    <tr>\n",
       "      <th>233</th>\n",
       "      <td>MADRID</td>\n",
       "      <td>PONFERRADA</td>\n",
       "      <td>AVE-MD</td>\n",
       "      <td>35.750000</td>\n",
       "      <td>Turista con enlace</td>\n",
       "      <td>Promo</td>\n",
       "      <td>3.883333</td>\n",
       "      <td>14</td>\n",
       "      <td>18</td>\n",
       "    </tr>\n",
       "    <tr>\n",
       "      <th>234</th>\n",
       "      <td>MADRID</td>\n",
       "      <td>PONFERRADA</td>\n",
       "      <td>AVE-LD</td>\n",
       "      <td>31.200000</td>\n",
       "      <td>Turista con enlace</td>\n",
       "      <td>Promo</td>\n",
       "      <td>4.200000</td>\n",
       "      <td>14</td>\n",
       "      <td>18</td>\n",
       "    </tr>\n",
       "    <tr>\n",
       "      <th>235</th>\n",
       "      <td>MADRID</td>\n",
       "      <td>PONFERRADA</td>\n",
       "      <td>ALVIA</td>\n",
       "      <td>33.500000</td>\n",
       "      <td>Turista</td>\n",
       "      <td>Promo</td>\n",
       "      <td>4.050000</td>\n",
       "      <td>17</td>\n",
       "      <td>21</td>\n",
       "    </tr>\n",
       "    <tr>\n",
       "      <th>236</th>\n",
       "      <td>MADRID</td>\n",
       "      <td>PONFERRADA</td>\n",
       "      <td>LD-MD</td>\n",
       "      <td>56.723877</td>\n",
       "      <td>Turista con enlace</td>\n",
       "      <td>Promo +</td>\n",
       "      <td>6.533333</td>\n",
       "      <td>12</td>\n",
       "      <td>18</td>\n",
       "    </tr>\n",
       "    <tr>\n",
       "      <th>237</th>\n",
       "      <td>MADRID</td>\n",
       "      <td>PONFERRADA</td>\n",
       "      <td>LD</td>\n",
       "      <td>42.750000</td>\n",
       "      <td>Turista con enlace</td>\n",
       "      <td>Promo +</td>\n",
       "      <td>4.200000</td>\n",
       "      <td>14</td>\n",
       "      <td>18</td>\n",
       "    </tr>\n",
       "  </tbody>\n",
       "</table>\n",
       "</div>"
      ],
      "text/plain": [
       "     origin destination train_type      price         train_class     fare  \\\n",
       "233  MADRID  PONFERRADA     AVE-MD  35.750000  Turista con enlace    Promo   \n",
       "234  MADRID  PONFERRADA     AVE-LD  31.200000  Turista con enlace    Promo   \n",
       "235  MADRID  PONFERRADA      ALVIA  33.500000             Turista    Promo   \n",
       "236  MADRID  PONFERRADA      LD-MD  56.723877  Turista con enlace  Promo +   \n",
       "237  MADRID  PONFERRADA         LD  42.750000  Turista con enlace  Promo +   \n",
       "\n",
       "     travel_time_in_hrs  starting_hour  ending_hour  \n",
       "233            3.883333             14           18  \n",
       "234            4.200000             14           18  \n",
       "235            4.050000             17           21  \n",
       "236            6.533333             12           18  \n",
       "237            4.200000             14           18  "
      ]
     },
     "execution_count": 48,
     "metadata": {},
     "output_type": "execute_result"
    }
   ],
   "source": [
    "df1 = df[(df['origin']=='MADRID') & (df['destination']=='PONFERRADA')]\n",
    "df1.head()"
   ]
  },
  {
   "cell_type": "markdown",
   "metadata": {},
   "source": [
    "#### Finding out travelling hours for each train type"
   ]
  },
  {
   "cell_type": "code",
   "execution_count": 49,
   "metadata": {
    "scrolled": false
   },
   "outputs": [
    {
     "data": {
      "image/png": "[encoded data removed]",
      "text/plain": [
       "<Figure size 1080x432 with 1 Axes>"
      ]
     },
     "metadata": {
      "needs_background": "light"
     },
     "output_type": "display_data"
    }
   ],
   "source": [
    "plt.figure(figsize=(15,6))\n",
    "sns.barplot(x='train_type', y='travel_time_in_hrs', data= df1)\n",
    "plt.xlabel('Train Type', fontsize=15)\n",
    "plt.ylabel('Travel time (hrs)', fontsize=15)\n",
    "plt.title('Travel Time vs Train Type (Madrid to Ponferrada)', fontsize=15)\n",
    "plt.show()"
   ]
  },
  {
   "cell_type": "markdown",
   "metadata": {},
   "source": [
    "#### train_type vs price"
   ]
  },
  {
   "cell_type": "code",
   "execution_count": 50,
   "metadata": {
    "scrolled": false
   },
   "outputs": [
    {
     "data": {
      "image/png": "[encoded data removed]",
      "text/plain": [
       "<Figure size 1080x432 with 1 Axes>"
      ]
     },
     "metadata": {
      "needs_background": "light"
     },
     "output_type": "display_data"
    }
   ],
   "source": [
    "plt.figure(figsize=(15,6))\n",
    "sns.boxplot(x='train_type', y='price', data= df1)\n",
    "plt.xlabel('Train Type', fontsize=15)\n",
    "plt.ylabel('Price', fontsize=15)\n",
    "plt.title('Train Type vs Price (Madrid to Ponferrada)', fontsize=15)\n",
    "plt.show()"
   ]
  },
  {
   "cell_type": "code",
   "execution_count": 51,
   "metadata": {
    "scrolled": false
   },
   "outputs": [
    {
     "data": {
      "image/png": "[encoded data removed]",
      "text/plain": [
       "<Figure size 1080x432 with 1 Axes>"
      ]
     },
     "metadata": {
      "needs_background": "light"
     },
     "output_type": "display_data"
    }
   ],
   "source": [
    "plt.figure(figsize=[15,6])\n",
    "sns.boxplot(x=\"fare\", y=\"price\", data=df1);\n",
    "plt.xlabel('Fare Type', fontsize=15)\n",
    "plt.ylabel('Price', fontsize=15)\n",
    "plt.title('Fare Type vs Price (Madrid to Ponferrada)', fontsize=15)\n",
    "plt.show()"
   ]
  },
  {
   "cell_type": "markdown",
   "metadata": {},
   "source": [
    "4 out of 7 trains take almost 4 hrs to reach Ponferrada. but **AVE-MD** takes lesser as comapred to others. In terms of cost **AVE-MD** is expensive than **AVE-LD**, so,it might be feasible to travel on **AVE-LD** as it takes jsut over 4 hrs to reach destination. \n",
    "Most time taken by is **MD-LD** and is costly as well. **LD-MD** train type is also costly with upper quartile range similar to that of **MD-LD**. "
   ]
  },
  {
   "cell_type": "markdown",
   "metadata": {},
   "source": [
    "## Modeling"
   ]
  },
  {
   "cell_type": "markdown",
   "metadata": {},
   "source": [
    "First we need to encode all the caategorical values we will use LabelEncoder package for this purpose"
   ]
  },
  {
   "cell_type": "code",
   "execution_count": 52,
   "metadata": {},
   "outputs": [],
   "source": [
    "from sklearn.preprocessing import LabelEncoder"
   ]
  },
  {
   "cell_type": "markdown",
   "metadata": {},
   "source": [
    "**Encoding only categorical variables**"
   ]
  },
  {
   "cell_type": "code",
   "execution_count": 53,
   "metadata": {},
   "outputs": [],
   "source": [
    "lab_en = LabelEncoder()\n",
    "df.iloc[:,0] = lab_en.fit_transform(df.iloc[:,0])\n",
    "df.iloc[:,1] = lab_en.fit_transform(df.iloc[:,1])\n",
    "df.iloc[:,2] = lab_en.fit_transform(df.iloc[:,2])\n",
    "df.iloc[:,4] = lab_en.fit_transform(df.iloc[:,4])\n",
    "df.iloc[:,5] = lab_en.fit_transform(df.iloc[:,5])"
   ]
  },
  {
   "cell_type": "code",
   "execution_count": 54,
   "metadata": {
    "scrolled": false
   },
   "outputs": [
    {
     "data": {
      "text/html": [
       "<div>\n",
       "<style scoped>\n",
       "    .dataframe tbody tr th:only-of-type {\n",
       "        vertical-align: middle;\n",
       "    }\n",
       "\n",
       "    .dataframe tbody tr th {\n",
       "        vertical-align: top;\n",
       "    }\n",
       "\n",
       "    .dataframe thead th {\n",
       "        text-align: right;\n",
       "    }\n",
       "</style>\n",
       "<table border=\"1\" class=\"dataframe\">\n",
       "  <thead>\n",
       "    <tr style=\"text-align: right;\">\n",
       "      <th></th>\n",
       "      <th>origin</th>\n",
       "      <th>destination</th>\n",
       "      <th>train_type</th>\n",
       "      <th>price</th>\n",
       "      <th>train_class</th>\n",
       "      <th>fare</th>\n",
       "      <th>travel_time_in_hrs</th>\n",
       "      <th>starting_hour</th>\n",
       "      <th>ending_hour</th>\n",
       "    </tr>\n",
       "  </thead>\n",
       "  <tbody>\n",
       "    <tr>\n",
       "      <th>0</th>\n",
       "      <td>2</td>\n",
       "      <td>1</td>\n",
       "      <td>11</td>\n",
       "      <td>59.50</td>\n",
       "      <td>4</td>\n",
       "      <td>1</td>\n",
       "      <td>4.700000</td>\n",
       "      <td>15</td>\n",
       "      <td>19</td>\n",
       "    </tr>\n",
       "    <tr>\n",
       "      <th>1</th>\n",
       "      <td>2</td>\n",
       "      <td>1</td>\n",
       "      <td>11</td>\n",
       "      <td>34.65</td>\n",
       "      <td>4</td>\n",
       "      <td>4</td>\n",
       "      <td>5.800000</td>\n",
       "      <td>17</td>\n",
       "      <td>23</td>\n",
       "    </tr>\n",
       "    <tr>\n",
       "      <th>2</th>\n",
       "      <td>2</td>\n",
       "      <td>1</td>\n",
       "      <td>12</td>\n",
       "      <td>39.95</td>\n",
       "      <td>4</td>\n",
       "      <td>4</td>\n",
       "      <td>5.916667</td>\n",
       "      <td>17</td>\n",
       "      <td>23</td>\n",
       "    </tr>\n",
       "    <tr>\n",
       "      <th>3</th>\n",
       "      <td>2</td>\n",
       "      <td>1</td>\n",
       "      <td>11</td>\n",
       "      <td>40.60</td>\n",
       "      <td>4</td>\n",
       "      <td>4</td>\n",
       "      <td>4.983333</td>\n",
       "      <td>17</td>\n",
       "      <td>22</td>\n",
       "    </tr>\n",
       "    <tr>\n",
       "      <th>4</th>\n",
       "      <td>2</td>\n",
       "      <td>1</td>\n",
       "      <td>0</td>\n",
       "      <td>27.90</td>\n",
       "      <td>2</td>\n",
       "      <td>3</td>\n",
       "      <td>4.133333</td>\n",
       "      <td>18</td>\n",
       "      <td>23</td>\n",
       "    </tr>\n",
       "  </tbody>\n",
       "</table>\n",
       "</div>"
      ],
      "text/plain": [
       "   origin  destination  train_type  price  train_class  fare  \\\n",
       "0       2            1          11  59.50            4     1   \n",
       "1       2            1          11  34.65            4     4   \n",
       "2       2            1          12  39.95            4     4   \n",
       "3       2            1          11  40.60            4     4   \n",
       "4       2            1           0  27.90            2     3   \n",
       "\n",
       "   travel_time_in_hrs  starting_hour  ending_hour  \n",
       "0            4.700000             15           19  \n",
       "1            5.800000             17           23  \n",
       "2            5.916667             17           23  \n",
       "3            4.983333             17           22  \n",
       "4            4.133333             18           23  "
      ]
     },
     "execution_count": 54,
     "metadata": {},
     "output_type": "execute_result"
    }
   ],
   "source": [
    "df.head()"
   ]
  },
  {
   "cell_type": "markdown",
   "metadata": {},
   "source": [
    "#### Separating the dependant and independant variables"
   ]
  },
  {
   "cell_type": "code",
   "execution_count": 55,
   "metadata": {},
   "outputs": [],
   "source": [
    "X = df.drop(['price'], axis=1)\n",
    "Y = df['price']"
   ]
  },
  {
   "cell_type": "code",
   "execution_count": 56,
   "metadata": {},
   "outputs": [
    {
     "name": "stdout",
     "output_type": "stream",
     "text": [
      "(215266, 8)\n",
      "(215266,)\n"
     ]
    }
   ],
   "source": [
    "print(X.shape)\n",
    "print(Y.shape)"
   ]
  },
  {
   "cell_type": "markdown",
   "metadata": {},
   "source": [
    "#### Data Scaling"
   ]
  },
  {
   "cell_type": "code",
   "execution_count": 57,
   "metadata": {},
   "outputs": [
    {
     "name": "stderr",
     "output_type": "stream",
     "text": [
      "F:\\Anaconda3\\lib\\site-packages\\sklearn\\preprocessing\\data.py:323: DataConversionWarning: Data with input dtype int32, int64, float64 were all converted to float64 by MinMaxScaler.\n",
      "  return self.partial_fit(X, y)\n"
     ]
    },
    {
     "data": {
      "text/html": [
       "<div>\n",
       "<style scoped>\n",
       "    .dataframe tbody tr th:only-of-type {\n",
       "        vertical-align: middle;\n",
       "    }\n",
       "\n",
       "    .dataframe tbody tr th {\n",
       "        vertical-align: top;\n",
       "    }\n",
       "\n",
       "    .dataframe thead th {\n",
       "        text-align: right;\n",
       "    }\n",
       "</style>\n",
       "<table border=\"1\" class=\"dataframe\">\n",
       "  <thead>\n",
       "    <tr style=\"text-align: right;\">\n",
       "      <th></th>\n",
       "      <th>origin</th>\n",
       "      <th>destination</th>\n",
       "      <th>train_type</th>\n",
       "      <th>train_class</th>\n",
       "      <th>fare</th>\n",
       "      <th>travel_time_in_hrs</th>\n",
       "      <th>starting_hour</th>\n",
       "      <th>ending_hour</th>\n",
       "    </tr>\n",
       "  </thead>\n",
       "  <tbody>\n",
       "    <tr>\n",
       "      <th>0</th>\n",
       "      <td>0.5</td>\n",
       "      <td>0.25</td>\n",
       "      <td>0.733333</td>\n",
       "      <td>1.0</td>\n",
       "      <td>0.25</td>\n",
       "      <td>0.284389</td>\n",
       "      <td>0.65</td>\n",
       "      <td>0.826087</td>\n",
       "    </tr>\n",
       "    <tr>\n",
       "      <th>1</th>\n",
       "      <td>0.5</td>\n",
       "      <td>0.25</td>\n",
       "      <td>0.733333</td>\n",
       "      <td>1.0</td>\n",
       "      <td>1.00</td>\n",
       "      <td>0.386399</td>\n",
       "      <td>0.75</td>\n",
       "      <td>1.000000</td>\n",
       "    </tr>\n",
       "    <tr>\n",
       "      <th>2</th>\n",
       "      <td>0.5</td>\n",
       "      <td>0.25</td>\n",
       "      <td>0.800000</td>\n",
       "      <td>1.0</td>\n",
       "      <td>1.00</td>\n",
       "      <td>0.397218</td>\n",
       "      <td>0.75</td>\n",
       "      <td>1.000000</td>\n",
       "    </tr>\n",
       "    <tr>\n",
       "      <th>3</th>\n",
       "      <td>0.5</td>\n",
       "      <td>0.25</td>\n",
       "      <td>0.733333</td>\n",
       "      <td>1.0</td>\n",
       "      <td>1.00</td>\n",
       "      <td>0.310665</td>\n",
       "      <td>0.75</td>\n",
       "      <td>0.956522</td>\n",
       "    </tr>\n",
       "    <tr>\n",
       "      <th>4</th>\n",
       "      <td>0.5</td>\n",
       "      <td>0.25</td>\n",
       "      <td>0.000000</td>\n",
       "      <td>0.5</td>\n",
       "      <td>0.75</td>\n",
       "      <td>0.231839</td>\n",
       "      <td>0.80</td>\n",
       "      <td>1.000000</td>\n",
       "    </tr>\n",
       "  </tbody>\n",
       "</table>\n",
       "</div>"
      ],
      "text/plain": [
       "   origin  destination  train_type  train_class  fare  travel_time_in_hrs  \\\n",
       "0     0.5         0.25    0.733333          1.0  0.25            0.284389   \n",
       "1     0.5         0.25    0.733333          1.0  1.00            0.386399   \n",
       "2     0.5         0.25    0.800000          1.0  1.00            0.397218   \n",
       "3     0.5         0.25    0.733333          1.0  1.00            0.310665   \n",
       "4     0.5         0.25    0.000000          0.5  0.75            0.231839   \n",
       "\n",
       "   starting_hour  ending_hour  \n",
       "0           0.65     0.826087  \n",
       "1           0.75     1.000000  \n",
       "2           0.75     1.000000  \n",
       "3           0.75     0.956522  \n",
       "4           0.80     1.000000  "
      ]
     },
     "execution_count": 57,
     "metadata": {},
     "output_type": "execute_result"
    }
   ],
   "source": [
    "from sklearn.preprocessing import MinMaxScaler\n",
    "min_max_scaler = MinMaxScaler()\n",
    "x_scaled_minmax = min_max_scaler.fit_transform(X)\n",
    "X = pd.DataFrame(x_scaled_minmax, columns = X.columns)\n",
    "X.head()"
   ]
  },
  {
   "cell_type": "markdown",
   "metadata": {},
   "source": [
    "#### Splitting the data into test and train"
   ]
  },
  {
   "cell_type": "code",
   "execution_count": 58,
   "metadata": {},
   "outputs": [],
   "source": [
    "from sklearn.model_selection import train_test_split"
   ]
  },
  {
   "cell_type": "code",
   "execution_count": 59,
   "metadata": {},
   "outputs": [],
   "source": [
    "X_train,X_test,Y_train,Y_test = train_test_split(X, Y, test_size=0.30, random_state=25, shuffle=True)"
   ]
  },
  {
   "cell_type": "markdown",
   "metadata": {},
   "source": [
    "# Applying Linear  Regression"
   ]
  },
  {
   "cell_type": "code",
   "execution_count": 60,
   "metadata": {},
   "outputs": [],
   "source": [
    "from sklearn.linear_model import LinearRegression"
   ]
  },
  {
   "cell_type": "code",
   "execution_count": 61,
   "metadata": {},
   "outputs": [],
   "source": [
    "lr = LinearRegression()"
   ]
  },
  {
   "cell_type": "code",
   "execution_count": 62,
   "metadata": {},
   "outputs": [
    {
     "data": {
      "text/plain": [
       "LinearRegression(copy_X=True, fit_intercept=True, n_jobs=None,\n",
       "         normalize=False)"
      ]
     },
     "execution_count": 62,
     "metadata": {},
     "output_type": "execute_result"
    }
   ],
   "source": [
    "lr.fit(X_train,Y_train)"
   ]
  },
  {
   "cell_type": "markdown",
   "metadata": {},
   "source": [
    "Finding out the predictions using test data set."
   ]
  },
  {
   "cell_type": "code",
   "execution_count": 63,
   "metadata": {},
   "outputs": [],
   "source": [
    "lr_predict = lr.predict(X_test)"
   ]
  },
  {
   "cell_type": "markdown",
   "metadata": {},
   "source": [
    "Predictions using training data set."
   ]
  },
  {
   "cell_type": "code",
   "execution_count": 64,
   "metadata": {},
   "outputs": [],
   "source": [
    "lr_predict_train = lr.predict(X_train)"
   ]
  },
  {
   "cell_type": "markdown",
   "metadata": {},
   "source": [
    "Now we will use R-Squared and Mean Square Error metric for our model efficiency "
   ]
  },
  {
   "cell_type": "code",
   "execution_count": 65,
   "metadata": {},
   "outputs": [],
   "source": [
    "from sklearn.metrics import r2_score"
   ]
  },
  {
   "cell_type": "markdown",
   "metadata": {},
   "source": [
    "R2 Score for test data"
   ]
  },
  {
   "cell_type": "code",
   "execution_count": 66,
   "metadata": {},
   "outputs": [
    {
     "name": "stdout",
     "output_type": "stream",
     "text": [
      "0.735442005710597\n"
     ]
    }
   ],
   "source": [
    "lr_r2_test= r2_score(Y_test, lr_predict)\n",
    "print(lr_r2_test)"
   ]
  },
  {
   "cell_type": "markdown",
   "metadata": {},
   "source": [
    "R2 Score for training data"
   ]
  },
  {
   "cell_type": "code",
   "execution_count": 67,
   "metadata": {},
   "outputs": [
    {
     "name": "stdout",
     "output_type": "stream",
     "text": [
      "0.7301095999174174\n"
     ]
    }
   ],
   "source": [
    "lr_r2_train = r2_score(Y_train, lr_predict_train )\n",
    "print(lr_r2_train)"
   ]
  },
  {
   "cell_type": "markdown",
   "metadata": {},
   "source": [
    "Comaparing training and testing R2 scores"
   ]
  },
  {
   "cell_type": "code",
   "execution_count": 68,
   "metadata": {
    "scrolled": true
   },
   "outputs": [
    {
     "name": "stdout",
     "output_type": "stream",
     "text": [
      "R2 score for Linear Regression Training Data is:  0.7301095999174174\n",
      "R2 score for Linear Regression Testing Data is:  0.735442005710597\n"
     ]
    }
   ],
   "source": [
    "print('R2 score for Linear Regression Training Data is: ', lr_r2_train)\n",
    "print('R2 score for Linear Regression Testing Data is: ', lr_r2_test)"
   ]
  },
  {
   "cell_type": "code",
   "execution_count": 69,
   "metadata": {},
   "outputs": [],
   "source": [
    "from sklearn.metrics import mean_squared_error"
   ]
  },
  {
   "cell_type": "code",
   "execution_count": 70,
   "metadata": {
    "scrolled": true
   },
   "outputs": [
    {
     "name": "stdout",
     "output_type": "stream",
     "text": [
      "MSE for Linear Regression Training Data is:  165.54630242034187\n",
      "MSE for Linear Regression Testing Data is:  161.6429058723463\n"
     ]
    }
   ],
   "source": [
    "lr_mse_train=mean_squared_error(Y_train, lr_predict_train)\n",
    "print('MSE for Linear Regression Training Data is: ', lr_mse_train)\n",
    "\n",
    "lr_mse_test=mean_squared_error(Y_test, lr_predict)\n",
    "print('MSE for Linear Regression Testing Data is: ', lr_mse_test)"
   ]
  },
  {
   "cell_type": "markdown",
   "metadata": {},
   "source": [
    "Claculating Adjusted R2 square to see if no. features are affecting the model efficiency"
   ]
  },
  {
   "cell_type": "code",
   "execution_count": 71,
   "metadata": {},
   "outputs": [
    {
     "name": "stdout",
     "output_type": "stream",
     "text": [
      "The adjusted R2 for Training Data is: 0.7300952704364704\n",
      "The adjusted R2 for Testing Data is: 0.7354092283964109\n"
     ]
    }
   ],
   "source": [
    "def adjR2 (xtest,ytest,r2):\n",
    "    n = len(ytest)\n",
    "    k = xtest.shape[-1]\n",
    "    adj_r2 = 1 - ((1 - r2)*(n - 1)) / (n - k -1)\n",
    "    return adj_r2\n",
    "\n",
    "\n",
    "print(f'The adjusted R2 for Training Data is: {adjR2(X_train,Y_train,lr_r2_train)}')\n",
    "print(f'The adjusted R2 for Testing Data is: {adjR2(X_test,Y_test,lr_r2_test)}')"
   ]
  },
  {
   "cell_type": "markdown",
   "metadata": {},
   "source": [
    "**Adjusted R2 score for training and testing data is same as R2 Score, so we do not need to remove any features**"
   ]
  },
  {
   "cell_type": "markdown",
   "metadata": {},
   "source": [
    "Using Cross Validation for training our data"
   ]
  },
  {
   "cell_type": "code",
   "execution_count": 72,
   "metadata": {},
   "outputs": [],
   "source": [
    "from sklearn.model_selection import cross_val_score"
   ]
  },
  {
   "cell_type": "code",
   "execution_count": 73,
   "metadata": {},
   "outputs": [],
   "source": [
    "scores = cross_val_score(lr, X_train, Y_train, cv=10)"
   ]
  },
  {
   "cell_type": "code",
   "execution_count": 74,
   "metadata": {},
   "outputs": [
    {
     "name": "stdout",
     "output_type": "stream",
     "text": [
      "[0.72422711 0.72418479 0.73112383 0.7346546  0.72669275 0.74023814\n",
      " 0.73253657 0.73203412 0.72299533 0.73181189]\n"
     ]
    }
   ],
   "source": [
    "print(scores)"
   ]
  },
  {
   "cell_type": "code",
   "execution_count": 75,
   "metadata": {},
   "outputs": [
    {
     "name": "stdout",
     "output_type": "stream",
     "text": [
      "0.730049912976439\n"
     ]
    }
   ],
   "source": [
    "print(scores.mean())"
   ]
  },
  {
   "cell_type": "code",
   "execution_count": 76,
   "metadata": {
    "scrolled": false
   },
   "outputs": [
    {
     "data": {
      "image/png": "[encoded data removed]",
      "text/plain": [
       "<Figure size 576x360 with 1 Axes>"
      ]
     },
     "metadata": {
      "needs_background": "light"
     },
     "output_type": "display_data"
    }
   ],
   "source": [
    "plt.figure(figsize=(8,5))\n",
    "sns.barplot(x=list(range(1,len(scores)+1)),y=scores, color='b')\n",
    "plt.show()"
   ]
  },
  {
   "cell_type": "markdown",
   "metadata": {},
   "source": [
    "Lets check if our data has some pattern in by plotting Residual Plot"
   ]
  },
  {
   "cell_type": "code",
   "execution_count": 77,
   "metadata": {},
   "outputs": [
    {
     "data": {
      "image/png": "[encoded data removed]",
      "text/plain": [
       "<Figure size 1080x432 with 2 Axes>"
      ]
     },
     "metadata": {},
     "output_type": "display_data"
    }
   ],
   "source": [
    "from yellowbrick.regressor import ResidualsPlot\n",
    "\n",
    "plt.figure(figsize=(15,6))\n",
    "visualizer = ResidualsPlot(lr)\n",
    "visualizer.fit(X_train.values, Y_train.values)  \n",
    "visualizer.score(X_test.values, Y_test.values)  \n",
    "visualizer.poof()   "
   ]
  },
  {
   "cell_type": "markdown",
   "metadata": {},
   "source": [
    "# Applying Polynomial Regression"
   ]
  },
  {
   "cell_type": "code",
   "execution_count": 78,
   "metadata": {},
   "outputs": [],
   "source": [
    "from sklearn.preprocessing import PolynomialFeatures "
   ]
  },
  {
   "cell_type": "markdown",
   "metadata": {},
   "source": [
    "Using only default features"
   ]
  },
  {
   "cell_type": "code",
   "execution_count": 79,
   "metadata": {},
   "outputs": [],
   "source": [
    "poly_reg = PolynomialFeatures()"
   ]
  },
  {
   "cell_type": "code",
   "execution_count": 80,
   "metadata": {},
   "outputs": [],
   "source": [
    "X_train_poly, X_test_poly = poly_reg.fit_transform(X_train),poly_reg.fit_transform(X_test)"
   ]
  },
  {
   "cell_type": "code",
   "execution_count": 81,
   "metadata": {},
   "outputs": [
    {
     "data": {
      "text/plain": [
       "LinearRegression(copy_X=True, fit_intercept=True, n_jobs=None,\n",
       "         normalize=False)"
      ]
     },
     "execution_count": 81,
     "metadata": {},
     "output_type": "execute_result"
    }
   ],
   "source": [
    "poly_model = LinearRegression()\n",
    "poly_model.fit(X_train_poly, Y_train)"
   ]
  },
  {
   "cell_type": "code",
   "execution_count": 82,
   "metadata": {},
   "outputs": [],
   "source": [
    "y_train_predicted,y_test_predicted = poly_model.predict(X_train_poly), poly_model.predict(X_test_poly)"
   ]
  },
  {
   "cell_type": "markdown",
   "metadata": {},
   "source": [
    "R2 score for training data set i.e. evaluating the model on training dataset\n"
   ]
  },
  {
   "cell_type": "code",
   "execution_count": 83,
   "metadata": {},
   "outputs": [],
   "source": [
    "r2_train = r2_score(Y_train, y_train_predicted)"
   ]
  },
  {
   "cell_type": "markdown",
   "metadata": {},
   "source": [
    "R2 score for test data set i.e. evaluating the model on test dataset\n"
   ]
  },
  {
   "cell_type": "code",
   "execution_count": 84,
   "metadata": {},
   "outputs": [],
   "source": [
    "r2_test = r2_score(Y_test, y_test_predicted)"
   ]
  },
  {
   "cell_type": "markdown",
   "metadata": {},
   "source": [
    "Comaparing training and testing R2 scores"
   ]
  },
  {
   "cell_type": "code",
   "execution_count": 85,
   "metadata": {
    "scrolled": true
   },
   "outputs": [
    {
     "name": "stdout",
     "output_type": "stream",
     "text": [
      "The r2 score for training set is:  0.8304442764997486\n",
      "The r2 score for testing set is:  0.8310514111147778\n"
     ]
    }
   ],
   "source": [
    "print ('The r2 score for training set is: ',r2_train)\n",
    "print ('The r2 score for testing set is: ',r2_test)"
   ]
  },
  {
   "cell_type": "markdown",
   "metadata": {},
   "source": [
    "## Model Complexity"
   ]
  },
  {
   "cell_type": "markdown",
   "metadata": {},
   "source": [
    "Now we find out the complexity using R2 score and will use *for* loop for finding the best degree and model complexity for polynomial regression model"
   ]
  },
  {
   "cell_type": "code",
   "execution_count": 86,
   "metadata": {},
   "outputs": [
    {
     "name": "stdout",
     "output_type": "stream",
     "text": [
      "R2 Train [0.7301095999174174, 0.8304442764997486, 0.8682817335342127, 0.8992758623054141, 0.905062683687526]\n",
      "R2 Test [0.7354420057105979, 0.8310514111147778, 0.8660126206174915, -22987367096371.67, -7046112998489.493]\n"
     ]
    }
   ],
   "source": [
    "from sklearn.metrics import mean_squared_error\n",
    "mse_train=[]\n",
    "mse_test=[]\n",
    "r2_train=[]\n",
    "r2_test=[]\n",
    "for i in range(1,6):\n",
    "    poly_reg = PolynomialFeatures(degree=i)\n",
    "    \n",
    "    X_tr_poly,X_tst_poly = poly_reg.fit_transform(X_train),poly_reg.fit_transform(X_test)\n",
    "    poly = LinearRegression()\n",
    "    poly.fit(X_tr_poly, Y_train)\n",
    "   \n",
    "    y_tr_predicted,y_tst_predict = poly.predict(X_tr_poly),poly.predict(X_tst_poly)\n",
    "    r2_train.append(r2_score(Y_train, y_tr_predicted))\n",
    "    r2_test.append(r2_score(Y_test, y_tst_predict))\n",
    "    mse_train.append(mean_squared_error(Y_train, y_tr_predicted))\n",
    "    mse_test.append(mean_squared_error(Y_test, y_tst_predict))\n",
    "print ('R2 Train', r2_train)\n",
    "print ('R2 Test', r2_test)"
   ]
  },
  {
   "cell_type": "code",
   "execution_count": 87,
   "metadata": {},
   "outputs": [
    {
     "name": "stdout",
     "output_type": "stream",
     "text": [
      "Mean Square Error Train [165.5463024203419, 104.00267320024608, 80.79380358825748, 61.78251821744648, 58.232977802957976]\n",
      "Mean Square Error Test [161.64290587234575, 103.22629230612368, 81.86526138354799, 1.4045105028076918e+16, 4305121012276045.0]\n"
     ]
    }
   ],
   "source": [
    "print ('Mean Square Error Train', mse_train)\n",
    "print ('Mean Square Error Test', mse_test)"
   ]
  },
  {
   "cell_type": "markdown",
   "metadata": {},
   "source": [
    "#### Plotting Model Complexity"
   ]
  },
  {
   "cell_type": "code",
   "execution_count": 88,
   "metadata": {},
   "outputs": [
    {
     "data": {
      "text/plain": [
       "(0, 1)"
      ]
     },
     "execution_count": 88,
     "metadata": {},
     "output_type": "execute_result"
    },
    {
     "data": {
      "image/png": "[encoded data removed]",
      "text/plain": [
       "<Figure size 1296x360 with 2 Axes>"
      ]
     },
     "metadata": {},
     "output_type": "display_data"
    }
   ],
   "source": [
    "plt.figure(figsize=(18,5))\n",
    "sns.set_context('poster')\n",
    "plt.subplot(1,2,1)\n",
    "sns.lineplot(x=list(range(1,6)), y=r2_train, label='Training');\n",
    "plt.title('R2 Score Training Data Set',fontsize=15 )\n",
    "\n",
    "plt.ylim(0,1)\n",
    "plt.subplot(1,2,2)\n",
    "sns.lineplot(x=list(range(1,6)), y=r2_test, label='Testing')\n",
    "plt.title('R2 Score Testing Data Set' ,fontsize=15)\n",
    "\n",
    "plt.ylim(0,1)"
   ]
  },
  {
   "cell_type": "code",
   "execution_count": 89,
   "metadata": {},
   "outputs": [
    {
     "data": {
      "image/png": "[encoded data removed]",
      "text/plain": [
       "<Figure size 1080x288 with 2 Axes>"
      ]
     },
     "metadata": {},
     "output_type": "display_data"
    }
   ],
   "source": [
    "plt.figure(figsize=(15,4))\n",
    "plt.subplot(1,2,1)\n",
    "sns.lineplot(x=list(range(1,6)), y=mse_train, label='Training')\n",
    "plt.title('MSE Training Data Set',fontsize=15 )\n",
    "\n",
    "plt.ylim(0,200)\n",
    "plt.subplot(1,2,2)\n",
    "sns.lineplot(x=list(range(1,6)), y=mse_test, label='Testing')\n",
    "plt.title('MSE Testing Data Set',fontsize=15 )\n",
    "\n",
    "plt.ylim(0,200)\n",
    "plt.show();"
   ]
  },
  {
   "cell_type": "markdown",
   "metadata": {},
   "source": [
    "Ploynomial degree 3 model gives the best result as the r2_score for both test and train is higher as compared to other degrees. After degree 3 r2_score for testing starts decreasing, and r2_score for training keeps on increasing. Plus Mean Square Error shows that at degree 3 the training and testing data have minimum error, but starts rising for testing data after this point."
   ]
  },
  {
   "cell_type": "markdown",
   "metadata": {},
   "source": [
    "### Revising our model with Degree = 3"
   ]
  },
  {
   "cell_type": "code",
   "execution_count": 90,
   "metadata": {},
   "outputs": [],
   "source": [
    "poly_reg_rev = PolynomialFeatures(degree=3)"
   ]
  },
  {
   "cell_type": "code",
   "execution_count": 91,
   "metadata": {},
   "outputs": [],
   "source": [
    "X_train_poly  = poly_reg_rev.fit_transform(X_train)"
   ]
  },
  {
   "cell_type": "code",
   "execution_count": 92,
   "metadata": {},
   "outputs": [],
   "source": [
    "X_test_poly=poly_reg_rev.fit_transform(X_test)"
   ]
  },
  {
   "cell_type": "code",
   "execution_count": 93,
   "metadata": {},
   "outputs": [
    {
     "data": {
      "text/plain": [
       "LinearRegression(copy_X=True, fit_intercept=True, n_jobs=None,\n",
       "         normalize=False)"
      ]
     },
     "execution_count": 93,
     "metadata": {},
     "output_type": "execute_result"
    }
   ],
   "source": [
    "poly_model = LinearRegression()\n",
    "poly_model.fit(X_train_poly, Y_train)"
   ]
  },
  {
   "cell_type": "code",
   "execution_count": 94,
   "metadata": {},
   "outputs": [],
   "source": [
    "y_train_predicted = poly_model.predict(X_train_poly)\n"
   ]
  },
  {
   "cell_type": "code",
   "execution_count": 95,
   "metadata": {},
   "outputs": [],
   "source": [
    "y_test_predicted=poly_model.predict(X_test_poly)"
   ]
  },
  {
   "cell_type": "code",
   "execution_count": 96,
   "metadata": {},
   "outputs": [],
   "source": [
    "poly_r2_train = r2_score(Y_train, y_train_predicted)"
   ]
  },
  {
   "cell_type": "code",
   "execution_count": 97,
   "metadata": {},
   "outputs": [],
   "source": [
    "poly_r2_test = r2_score(Y_test, y_test_predicted)"
   ]
  },
  {
   "cell_type": "code",
   "execution_count": 98,
   "metadata": {
    "scrolled": true
   },
   "outputs": [
    {
     "name": "stdout",
     "output_type": "stream",
     "text": [
      "The r2 score for training set is:  0.8682817335342127\n",
      "The r2 score for testing set is:  0.8660126206174915\n"
     ]
    }
   ],
   "source": [
    "print ('The r2 score for training set is: ',poly_r2_train)\n",
    "print ('The r2 score for testing set is: ',poly_r2_test)"
   ]
  },
  {
   "cell_type": "code",
   "execution_count": 99,
   "metadata": {},
   "outputs": [
    {
     "name": "stdout",
     "output_type": "stream",
     "text": [
      "MSE for Polynomial Regression Training Data is:  80.79380358825748\n",
      "MSE for Polynomial Regression Testing Data is:  81.86526138354799\n"
     ]
    }
   ],
   "source": [
    "ploy_mse_train=mean_squared_error(Y_train, y_train_predicted)\n",
    "print('MSE for Polynomial Regression Training Data is: ', ploy_mse_train)\n",
    "\n",
    "poly_mse_test=mean_squared_error(Y_test, y_test_predicted)\n",
    "print('MSE for Polynomial Regression Testing Data is: ', poly_mse_test)"
   ]
  },
  {
   "cell_type": "markdown",
   "metadata": {},
   "source": [
    "# Decision Tree Regressor"
   ]
  },
  {
   "cell_type": "code",
   "execution_count": 100,
   "metadata": {},
   "outputs": [],
   "source": [
    "from sklearn.tree import DecisionTreeRegressor"
   ]
  },
  {
   "cell_type": "code",
   "execution_count": 101,
   "metadata": {},
   "outputs": [
    {
     "data": {
      "text/plain": [
       "DecisionTreeRegressor(criterion='mse', max_depth=None, max_features=None,\n",
       "           max_leaf_nodes=None, min_impurity_decrease=0.0,\n",
       "           min_impurity_split=None, min_samples_leaf=1,\n",
       "           min_samples_split=2, min_weight_fraction_leaf=0.0,\n",
       "           presort=False, random_state=100, splitter='best')"
      ]
     },
     "execution_count": 101,
     "metadata": {},
     "output_type": "execute_result"
    }
   ],
   "source": [
    "dt_reg=DecisionTreeRegressor(random_state=100)\n",
    "dt_reg"
   ]
  },
  {
   "cell_type": "code",
   "execution_count": 102,
   "metadata": {},
   "outputs": [
    {
     "data": {
      "text/plain": [
       "DecisionTreeRegressor(criterion='mse', max_depth=None, max_features=None,\n",
       "           max_leaf_nodes=None, min_impurity_decrease=0.0,\n",
       "           min_impurity_split=None, min_samples_leaf=1,\n",
       "           min_samples_split=2, min_weight_fraction_leaf=0.0,\n",
       "           presort=False, random_state=100, splitter='best')"
      ]
     },
     "execution_count": 102,
     "metadata": {},
     "output_type": "execute_result"
    }
   ],
   "source": [
    "dt_reg.fit(X_train,Y_train)"
   ]
  },
  {
   "cell_type": "code",
   "execution_count": 103,
   "metadata": {},
   "outputs": [],
   "source": [
    "dt_reg_test_predict = dt_reg.predict(X_test)\n"
   ]
  },
  {
   "cell_type": "code",
   "execution_count": 104,
   "metadata": {},
   "outputs": [],
   "source": [
    "dt_reg_train_predict = dt_reg.predict(X_train)"
   ]
  },
  {
   "cell_type": "code",
   "execution_count": 105,
   "metadata": {},
   "outputs": [
    {
     "name": "stdout",
     "output_type": "stream",
     "text": [
      "DT R2 Train 0.9124536457070925\n",
      "DT R2 Test 0.9115706383256788\n"
     ]
    }
   ],
   "source": [
    "dt_r2_score_train =r2_score(Y_train, dt_reg_train_predict)\n",
    "print('DT R2 Train', dt_r2_score_train)\n",
    "\n",
    "dt_r2_score_test =r2_score(Y_test, dt_reg_test_predict)\n",
    "print('DT R2 Test', dt_r2_score_test)"
   ]
  },
  {
   "cell_type": "code",
   "execution_count": 106,
   "metadata": {
    "scrolled": true
   },
   "outputs": [
    {
     "name": "stdout",
     "output_type": "stream",
     "text": [
      "DT MSE Train 53.69948408367773\n",
      "DT MSE Test 54.02966190406493\n"
     ]
    }
   ],
   "source": [
    "dt_mse_train=mean_squared_error(Y_train, dt_reg_train_predict)\n",
    "print('DT MSE Train', dt_mse_train)\n",
    "\n",
    "dt_mse_test=mean_squared_error(Y_test, dt_reg_test_predict)\n",
    "print('DT MSE Test', dt_mse_test)"
   ]
  },
  {
   "cell_type": "markdown",
   "metadata": {},
   "source": [
    "Now let us see which features were given importance by Decision Tree regressor"
   ]
  },
  {
   "cell_type": "code",
   "execution_count": 107,
   "metadata": {},
   "outputs": [],
   "source": [
    "features_tuple=list(zip(X.columns,dt_reg.feature_importances_))"
   ]
  },
  {
   "cell_type": "code",
   "execution_count": 108,
   "metadata": {},
   "outputs": [],
   "source": [
    "feature_imp=pd.DataFrame(features_tuple,columns=[\"Feature Names\",\"Importance\"])"
   ]
  },
  {
   "cell_type": "code",
   "execution_count": 109,
   "metadata": {},
   "outputs": [],
   "source": [
    "feature_imp=feature_imp.sort_values(\"Importance\",ascending=False)"
   ]
  },
  {
   "cell_type": "code",
   "execution_count": 110,
   "metadata": {
    "scrolled": false
   },
   "outputs": [
    {
     "data": {
      "text/plain": [
       "Text(0.5, 1.0, 'Decision Classifier - Features Importance')"
      ]
     },
     "execution_count": 110,
     "metadata": {},
     "output_type": "execute_result"
    },
    {
     "data": {
      "image/png": "[encoded data removed]",
      "text/plain": [
       "<Figure size 864x432 with 1 Axes>"
      ]
     },
     "metadata": {},
     "output_type": "display_data"
    }
   ],
   "source": [
    "plt.figure(figsize=(12,6))\n",
    "sns.barplot(x=\"Feature Names\",y=\"Importance\", data=feature_imp, color='b')\n",
    "plt.xlabel(\"Price Predicting Features\",fontsize=15)\n",
    "plt.ylabel(\"Importance\",fontsize=15)\n",
    "plt.xticks(rotation=90)\n",
    "plt.title(\"Decision Classifier - Features Importance\",fontsize=15)"
   ]
  },
  {
   "cell_type": "markdown",
   "metadata": {},
   "source": [
    "## Hyperparameter Tuning Decision Tree using Randomized Search"
   ]
  },
  {
   "cell_type": "code",
   "execution_count": 111,
   "metadata": {},
   "outputs": [],
   "source": [
    "from sklearn.model_selection import RandomizedSearchCV"
   ]
  },
  {
   "cell_type": "code",
   "execution_count": 112,
   "metadata": {},
   "outputs": [],
   "source": [
    "# Maximum number of levels in tree\n",
    "max_depth = [int(x) for x in np.linspace(10, 110, num = 11)]\n",
    "max_depth.append(None)\n",
    "# Minimum number of samples required to split a node\n",
    "min_samples_split = [2, 5, 10]"
   ]
  },
  {
   "cell_type": "code",
   "execution_count": 113,
   "metadata": {},
   "outputs": [],
   "source": [
    "random_grid1 = {\"max_depth\" : max_depth,\n",
    "           \"min_samples_split\" :min_samples_split}"
   ]
  },
  {
   "cell_type": "code",
   "execution_count": 114,
   "metadata": {
    "scrolled": true
   },
   "outputs": [
    {
     "name": "stderr",
     "output_type": "stream",
     "text": [
      "F:\\Anaconda3\\lib\\site-packages\\sklearn\\model_selection\\_search.py:271: UserWarning: The total space of parameters 36 is smaller than n_iter=50. Running 36 iterations. For exhaustive searches, use GridSearchCV.\n",
      "  % (grid_size, self.n_iter, grid_size), UserWarning)\n",
      "[Parallel(n_jobs=1)]: Using backend SequentialBackend with 1 concurrent workers.\n"
     ]
    },
    {
     "name": "stdout",
     "output_type": "stream",
     "text": [
      "Fitting 5 folds for each of 36 candidates, totalling 180 fits\n",
      "[CV] min_samples_split=2, max_depth=10 ...............................\n",
      "[CV] ................ min_samples_split=2, max_depth=10, total=   0.1s\n",
      "[CV] min_samples_split=2, max_depth=10 ...............................\n"
     ]
    },
    {
     "name": "stderr",
     "output_type": "stream",
     "text": [
      "[Parallel(n_jobs=1)]: Done   1 out of   1 | elapsed:    0.1s remaining:    0.0s\n"
     ]
    },
    {
     "name": "stdout",
     "output_type": "stream",
     "text": [
      "[CV] ................ min_samples_split=2, max_depth=10, total=   0.3s\n",
      "[CV] min_samples_split=2, max_depth=10 ...............................\n",
      "[CV] ................ min_samples_split=2, max_depth=10, total=   0.2s\n",
      "[CV] min_samples_split=2, max_depth=10 ...............................\n",
      "[CV] ................ min_samples_split=2, max_depth=10, total=   0.1s\n",
      "[CV] min_samples_split=2, max_depth=10 ...............................\n",
      "[CV] ................ min_samples_split=2, max_depth=10, total=   0.1s\n",
      "[CV] min_samples_split=5, max_depth=10 ...............................\n",
      "[CV] ................ min_samples_split=5, max_depth=10, total=   0.1s\n",
      "[CV] min_samples_split=5, max_depth=10 ...............................\n",
      "[CV] ................ min_samples_split=5, max_depth=10, total=   0.1s\n",
      "[CV] min_samples_split=5, max_depth=10 ...............................\n",
      "[CV] ................ min_samples_split=5, max_depth=10, total=   0.3s\n",
      "[CV] min_samples_split=5, max_depth=10 ...............................\n",
      "[CV] ................ min_samples_split=5, max_depth=10, total=   0.3s\n",
      "[CV] min_samples_split=5, max_depth=10 ...............................\n",
      "[CV] ................ min_samples_split=5, max_depth=10, total=   0.3s\n",
      "[CV] min_samples_split=10, max_depth=10 ..............................\n",
      "[CV] ............... min_samples_split=10, max_depth=10, total=   0.2s\n",
      "[CV] min_samples_split=10, max_depth=10 ..............................\n",
      "[CV] ............... min_samples_split=10, max_depth=10, total=   0.1s\n",
      "[CV] min_samples_split=10, max_depth=10 ..............................\n",
      "[CV] ............... min_samples_split=10, max_depth=10, total=   0.2s\n",
      "[CV] min_samples_split=10, max_depth=10 ..............................\n",
      "[CV] ............... min_samples_split=10, max_depth=10, total=   0.2s\n",
      "[CV] min_samples_split=10, max_depth=10 ..............................\n",
      "[CV] ............... min_samples_split=10, max_depth=10, total=   0.2s\n",
      "[CV] min_samples_split=2, max_depth=20 ...............................\n",
      "[CV] ................ min_samples_split=2, max_depth=20, total=   0.1s\n",
      "[CV] min_samples_split=2, max_depth=20 ...............................\n",
      "[CV] ................ min_samples_split=2, max_depth=20, total=   0.2s\n",
      "[CV] min_samples_split=2, max_depth=20 ...............................\n",
      "[CV] ................ min_samples_split=2, max_depth=20, total=   0.2s\n",
      "[CV] min_samples_split=2, max_depth=20 ...............................\n",
      "[CV] ................ min_samples_split=2, max_depth=20, total=   0.1s\n",
      "[CV] min_samples_split=2, max_depth=20 ...............................\n",
      "[CV] ................ min_samples_split=2, max_depth=20, total=   0.1s\n",
      "[CV] min_samples_split=5, max_depth=20 ...............................\n",
      "[CV] ................ min_samples_split=5, max_depth=20, total=   0.1s\n",
      "[CV] min_samples_split=5, max_depth=20 ...............................\n",
      "[CV] ................ min_samples_split=5, max_depth=20, total=   0.2s\n",
      "[CV] min_samples_split=5, max_depth=20 ...............................\n",
      "[CV] ................ min_samples_split=5, max_depth=20, total=   0.2s\n",
      "[CV] min_samples_split=5, max_depth=20 ...............................\n",
      "[CV] ................ min_samples_split=5, max_depth=20, total=   0.2s\n",
      "[CV] min_samples_split=5, max_depth=20 ...............................\n",
      "[CV] ................ min_samples_split=5, max_depth=20, total=   0.2s\n",
      "[CV] min_samples_split=10, max_depth=20 ..............................\n",
      "[CV] ............... min_samples_split=10, max_depth=20, total=   0.2s\n",
      "[CV] min_samples_split=10, max_depth=20 ..............................\n",
      "[CV] ............... min_samples_split=10, max_depth=20, total=   0.2s\n",
      "[CV] min_samples_split=10, max_depth=20 ..............................\n",
      "[CV] ............... min_samples_split=10, max_depth=20, total=   0.2s\n",
      "[CV] min_samples_split=10, max_depth=20 ..............................\n",
      "[CV] ............... min_samples_split=10, max_depth=20, total=   0.2s\n",
      "[CV] min_samples_split=10, max_depth=20 ..............................\n",
      "[CV] ............... min_samples_split=10, max_depth=20, total=   0.1s\n",
      "[CV] min_samples_split=2, max_depth=30 ...............................\n",
      "[CV] ................ min_samples_split=2, max_depth=30, total=   0.1s\n",
      "[CV] min_samples_split=2, max_depth=30 ...............................\n",
      "[CV] ................ min_samples_split=2, max_depth=30, total=   0.1s\n",
      "[CV] min_samples_split=2, max_depth=30 ...............................\n",
      "[CV] ................ min_samples_split=2, max_depth=30, total=   0.2s\n",
      "[CV] min_samples_split=2, max_depth=30 ...............................\n",
      "[CV] ................ min_samples_split=2, max_depth=30, total=   0.2s\n",
      "[CV] min_samples_split=2, max_depth=30 ...............................\n",
      "[CV] ................ min_samples_split=2, max_depth=30, total=   0.2s\n",
      "[CV] min_samples_split=5, max_depth=30 ...............................\n",
      "[CV] ................ min_samples_split=5, max_depth=30, total=   0.1s\n",
      "[CV] min_samples_split=5, max_depth=30 ...............................\n",
      "[CV] ................ min_samples_split=5, max_depth=30, total=   0.3s\n",
      "[CV] min_samples_split=5, max_depth=30 ...............................\n",
      "[CV] ................ min_samples_split=5, max_depth=30, total=   0.4s\n",
      "[CV] min_samples_split=5, max_depth=30 ...............................\n",
      "[CV] ................ min_samples_split=5, max_depth=30, total=   0.1s\n",
      "[CV] min_samples_split=5, max_depth=30 ...............................\n",
      "[CV] ................ min_samples_split=5, max_depth=30, total=   0.1s\n",
      "[CV] min_samples_split=10, max_depth=30 ..............................\n",
      "[CV] ............... min_samples_split=10, max_depth=30, total=   0.1s\n",
      "[CV] min_samples_split=10, max_depth=30 ..............................\n",
      "[CV] ............... min_samples_split=10, max_depth=30, total=   0.2s\n",
      "[CV] min_samples_split=10, max_depth=30 ..............................\n",
      "[CV] ............... min_samples_split=10, max_depth=30, total=   0.1s\n",
      "[CV] min_samples_split=10, max_depth=30 ..............................\n",
      "[CV] ............... min_samples_split=10, max_depth=30, total=   0.1s\n",
      "[CV] min_samples_split=10, max_depth=30 ..............................\n",
      "[CV] ............... min_samples_split=10, max_depth=30, total=   0.1s\n",
      "[CV] min_samples_split=2, max_depth=40 ...............................\n",
      "[CV] ................ min_samples_split=2, max_depth=40, total=   0.2s\n",
      "[CV] min_samples_split=2, max_depth=40 ...............................\n",
      "[CV] ................ min_samples_split=2, max_depth=40, total=   0.2s\n",
      "[CV] min_samples_split=2, max_depth=40 ...............................\n",
      "[CV] ................ min_samples_split=2, max_depth=40, total=   0.2s\n",
      "[CV] min_samples_split=2, max_depth=40 ...............................\n",
      "[CV] ................ min_samples_split=2, max_depth=40, total=   0.2s\n",
      "[CV] min_samples_split=2, max_depth=40 ...............................\n",
      "[CV] ................ min_samples_split=2, max_depth=40, total=   0.2s\n",
      "[CV] min_samples_split=5, max_depth=40 ...............................\n",
      "[CV] ................ min_samples_split=5, max_depth=40, total=   0.3s\n",
      "[CV] min_samples_split=5, max_depth=40 ...............................\n",
      "[CV] ................ min_samples_split=5, max_depth=40, total=   0.4s\n",
      "[CV] min_samples_split=5, max_depth=40 ...............................\n",
      "[CV] ................ min_samples_split=5, max_depth=40, total=   0.2s\n",
      "[CV] min_samples_split=5, max_depth=40 ...............................\n",
      "[CV] ................ min_samples_split=5, max_depth=40, total=   0.4s\n",
      "[CV] min_samples_split=5, max_depth=40 ...............................\n",
      "[CV] ................ min_samples_split=5, max_depth=40, total=   0.2s\n",
      "[CV] min_samples_split=10, max_depth=40 ..............................\n",
      "[CV] ............... min_samples_split=10, max_depth=40, total=   0.2s\n",
      "[CV] min_samples_split=10, max_depth=40 ..............................\n",
      "[CV] ............... min_samples_split=10, max_depth=40, total=   0.2s\n",
      "[CV] min_samples_split=10, max_depth=40 ..............................\n",
      "[CV] ............... min_samples_split=10, max_depth=40, total=   0.3s\n",
      "[CV] min_samples_split=10, max_depth=40 ..............................\n",
      "[CV] ............... min_samples_split=10, max_depth=40, total=   0.2s\n",
      "[CV] min_samples_split=10, max_depth=40 ..............................\n"
     ]
    },
    {
     "name": "stdout",
     "output_type": "stream",
     "text": [
      "[CV] ............... min_samples_split=10, max_depth=40, total=   0.3s\n",
      "[CV] min_samples_split=2, max_depth=50 ...............................\n",
      "[CV] ................ min_samples_split=2, max_depth=50, total=   0.3s\n",
      "[CV] min_samples_split=2, max_depth=50 ...............................\n",
      "[CV] ................ min_samples_split=2, max_depth=50, total=   0.2s\n",
      "[CV] min_samples_split=2, max_depth=50 ...............................\n",
      "[CV] ................ min_samples_split=2, max_depth=50, total=   0.3s\n",
      "[CV] min_samples_split=2, max_depth=50 ...............................\n",
      "[CV] ................ min_samples_split=2, max_depth=50, total=   0.2s\n",
      "[CV] min_samples_split=2, max_depth=50 ...............................\n",
      "[CV] ................ min_samples_split=2, max_depth=50, total=   0.2s\n",
      "[CV] min_samples_split=5, max_depth=50 ...............................\n",
      "[CV] ................ min_samples_split=5, max_depth=50, total=   0.2s\n",
      "[CV] min_samples_split=5, max_depth=50 ...............................\n",
      "[CV] ................ min_samples_split=5, max_depth=50, total=   0.2s\n",
      "[CV] min_samples_split=5, max_depth=50 ...............................\n",
      "[CV] ................ min_samples_split=5, max_depth=50, total=   0.1s\n",
      "[CV] min_samples_split=5, max_depth=50 ...............................\n",
      "[CV] ................ min_samples_split=5, max_depth=50, total=   0.2s\n",
      "[CV] min_samples_split=5, max_depth=50 ...............................\n",
      "[CV] ................ min_samples_split=5, max_depth=50, total=   0.2s\n",
      "[CV] min_samples_split=10, max_depth=50 ..............................\n",
      "[CV] ............... min_samples_split=10, max_depth=50, total=   0.1s\n",
      "[CV] min_samples_split=10, max_depth=50 ..............................\n",
      "[CV] ............... min_samples_split=10, max_depth=50, total=   0.2s\n",
      "[CV] min_samples_split=10, max_depth=50 ..............................\n",
      "[CV] ............... min_samples_split=10, max_depth=50, total=   0.2s\n",
      "[CV] min_samples_split=10, max_depth=50 ..............................\n",
      "[CV] ............... min_samples_split=10, max_depth=50, total=   0.2s\n",
      "[CV] min_samples_split=10, max_depth=50 ..............................\n",
      "[CV] ............... min_samples_split=10, max_depth=50, total=   0.2s\n",
      "[CV] min_samples_split=2, max_depth=60 ...............................\n",
      "[CV] ................ min_samples_split=2, max_depth=60, total=   0.1s\n",
      "[CV] min_samples_split=2, max_depth=60 ...............................\n",
      "[CV] ................ min_samples_split=2, max_depth=60, total=   0.2s\n",
      "[CV] min_samples_split=2, max_depth=60 ...............................\n",
      "[CV] ................ min_samples_split=2, max_depth=60, total=   0.2s\n",
      "[CV] min_samples_split=2, max_depth=60 ...............................\n",
      "[CV] ................ min_samples_split=2, max_depth=60, total=   0.1s\n",
      "[CV] min_samples_split=2, max_depth=60 ...............................\n",
      "[CV] ................ min_samples_split=2, max_depth=60, total=   0.2s\n",
      "[CV] min_samples_split=5, max_depth=60 ...............................\n",
      "[CV] ................ min_samples_split=5, max_depth=60, total=   0.2s\n",
      "[CV] min_samples_split=5, max_depth=60 ...............................\n",
      "[CV] ................ min_samples_split=5, max_depth=60, total=   0.2s\n",
      "[CV] min_samples_split=5, max_depth=60 ...............................\n",
      "[CV] ................ min_samples_split=5, max_depth=60, total=   0.2s\n",
      "[CV] min_samples_split=5, max_depth=60 ...............................\n",
      "[CV] ................ min_samples_split=5, max_depth=60, total=   0.2s\n",
      "[CV] min_samples_split=5, max_depth=60 ...............................\n",
      "[CV] ................ min_samples_split=5, max_depth=60, total=   0.2s\n",
      "[CV] min_samples_split=10, max_depth=60 ..............................\n",
      "[CV] ............... min_samples_split=10, max_depth=60, total=   0.2s\n",
      "[CV] min_samples_split=10, max_depth=60 ..............................\n",
      "[CV] ............... min_samples_split=10, max_depth=60, total=   0.2s\n",
      "[CV] min_samples_split=10, max_depth=60 ..............................\n",
      "[CV] ............... min_samples_split=10, max_depth=60, total=   0.2s\n",
      "[CV] min_samples_split=10, max_depth=60 ..............................\n",
      "[CV] ............... min_samples_split=10, max_depth=60, total=   0.1s\n",
      "[CV] min_samples_split=10, max_depth=60 ..............................\n",
      "[CV] ............... min_samples_split=10, max_depth=60, total=   0.1s\n",
      "[CV] min_samples_split=2, max_depth=70 ...............................\n",
      "[CV] ................ min_samples_split=2, max_depth=70, total=   0.2s\n",
      "[CV] min_samples_split=2, max_depth=70 ...............................\n",
      "[CV] ................ min_samples_split=2, max_depth=70, total=   0.2s\n",
      "[CV] min_samples_split=2, max_depth=70 ...............................\n",
      "[CV] ................ min_samples_split=2, max_depth=70, total=   0.2s\n",
      "[CV] min_samples_split=2, max_depth=70 ...............................\n",
      "[CV] ................ min_samples_split=2, max_depth=70, total=   0.1s\n",
      "[CV] min_samples_split=2, max_depth=70 ...............................\n",
      "[CV] ................ min_samples_split=2, max_depth=70, total=   0.1s\n",
      "[CV] min_samples_split=5, max_depth=70 ...............................\n",
      "[CV] ................ min_samples_split=5, max_depth=70, total=   0.1s\n",
      "[CV] min_samples_split=5, max_depth=70 ...............................\n",
      "[CV] ................ min_samples_split=5, max_depth=70, total=   0.2s\n",
      "[CV] min_samples_split=5, max_depth=70 ...............................\n",
      "[CV] ................ min_samples_split=5, max_depth=70, total=   0.2s\n",
      "[CV] min_samples_split=5, max_depth=70 ...............................\n",
      "[CV] ................ min_samples_split=5, max_depth=70, total=   0.2s\n",
      "[CV] min_samples_split=5, max_depth=70 ...............................\n",
      "[CV] ................ min_samples_split=5, max_depth=70, total=   0.2s\n",
      "[CV] min_samples_split=10, max_depth=70 ..............................\n",
      "[CV] ............... min_samples_split=10, max_depth=70, total=   0.2s\n",
      "[CV] min_samples_split=10, max_depth=70 ..............................\n",
      "[CV] ............... min_samples_split=10, max_depth=70, total=   0.2s\n",
      "[CV] min_samples_split=10, max_depth=70 ..............................\n",
      "[CV] ............... min_samples_split=10, max_depth=70, total=   0.2s\n",
      "[CV] min_samples_split=10, max_depth=70 ..............................\n",
      "[CV] ............... min_samples_split=10, max_depth=70, total=   0.1s\n",
      "[CV] min_samples_split=10, max_depth=70 ..............................\n",
      "[CV] ............... min_samples_split=10, max_depth=70, total=   0.2s\n",
      "[CV] min_samples_split=2, max_depth=80 ...............................\n",
      "[CV] ................ min_samples_split=2, max_depth=80, total=   0.2s\n",
      "[CV] min_samples_split=2, max_depth=80 ...............................\n",
      "[CV] ................ min_samples_split=2, max_depth=80, total=   0.2s\n",
      "[CV] min_samples_split=2, max_depth=80 ...............................\n",
      "[CV] ................ min_samples_split=2, max_depth=80, total=   0.2s\n",
      "[CV] min_samples_split=2, max_depth=80 ...............................\n",
      "[CV] ................ min_samples_split=2, max_depth=80, total=   0.2s\n",
      "[CV] min_samples_split=2, max_depth=80 ...............................\n",
      "[CV] ................ min_samples_split=2, max_depth=80, total=   0.2s\n",
      "[CV] min_samples_split=5, max_depth=80 ...............................\n",
      "[CV] ................ min_samples_split=5, max_depth=80, total=   0.2s\n",
      "[CV] min_samples_split=5, max_depth=80 ...............................\n",
      "[CV] ................ min_samples_split=5, max_depth=80, total=   0.2s\n",
      "[CV] min_samples_split=5, max_depth=80 ...............................\n",
      "[CV] ................ min_samples_split=5, max_depth=80, total=   0.2s\n",
      "[CV] min_samples_split=5, max_depth=80 ...............................\n",
      "[CV] ................ min_samples_split=5, max_depth=80, total=   0.2s\n",
      "[CV] min_samples_split=5, max_depth=80 ...............................\n",
      "[CV] ................ min_samples_split=5, max_depth=80, total=   0.2s\n",
      "[CV] min_samples_split=10, max_depth=80 ..............................\n",
      "[CV] ............... min_samples_split=10, max_depth=80, total=   0.2s\n",
      "[CV] min_samples_split=10, max_depth=80 ..............................\n",
      "[CV] ............... min_samples_split=10, max_depth=80, total=   0.2s\n",
      "[CV] min_samples_split=10, max_depth=80 ..............................\n"
     ]
    },
    {
     "name": "stdout",
     "output_type": "stream",
     "text": [
      "[CV] ............... min_samples_split=10, max_depth=80, total=   0.2s\n",
      "[CV] min_samples_split=10, max_depth=80 ..............................\n",
      "[CV] ............... min_samples_split=10, max_depth=80, total=   0.2s\n",
      "[CV] min_samples_split=10, max_depth=80 ..............................\n",
      "[CV] ............... min_samples_split=10, max_depth=80, total=   0.2s\n",
      "[CV] min_samples_split=2, max_depth=90 ...............................\n",
      "[CV] ................ min_samples_split=2, max_depth=90, total=   0.2s\n",
      "[CV] min_samples_split=2, max_depth=90 ...............................\n",
      "[CV] ................ min_samples_split=2, max_depth=90, total=   0.2s\n",
      "[CV] min_samples_split=2, max_depth=90 ...............................\n",
      "[CV] ................ min_samples_split=2, max_depth=90, total=   0.2s\n",
      "[CV] min_samples_split=2, max_depth=90 ...............................\n",
      "[CV] ................ min_samples_split=2, max_depth=90, total=   0.2s\n",
      "[CV] min_samples_split=2, max_depth=90 ...............................\n",
      "[CV] ................ min_samples_split=2, max_depth=90, total=   0.2s\n",
      "[CV] min_samples_split=5, max_depth=90 ...............................\n",
      "[CV] ................ min_samples_split=5, max_depth=90, total=   0.2s\n",
      "[CV] min_samples_split=5, max_depth=90 ...............................\n",
      "[CV] ................ min_samples_split=5, max_depth=90, total=   0.1s\n",
      "[CV] min_samples_split=5, max_depth=90 ...............................\n",
      "[CV] ................ min_samples_split=5, max_depth=90, total=   0.1s\n",
      "[CV] min_samples_split=5, max_depth=90 ...............................\n",
      "[CV] ................ min_samples_split=5, max_depth=90, total=   0.2s\n",
      "[CV] min_samples_split=5, max_depth=90 ...............................\n",
      "[CV] ................ min_samples_split=5, max_depth=90, total=   0.2s\n",
      "[CV] min_samples_split=10, max_depth=90 ..............................\n",
      "[CV] ............... min_samples_split=10, max_depth=90, total=   0.1s\n",
      "[CV] min_samples_split=10, max_depth=90 ..............................\n",
      "[CV] ............... min_samples_split=10, max_depth=90, total=   0.1s\n",
      "[CV] min_samples_split=10, max_depth=90 ..............................\n",
      "[CV] ............... min_samples_split=10, max_depth=90, total=   0.2s\n",
      "[CV] min_samples_split=10, max_depth=90 ..............................\n",
      "[CV] ............... min_samples_split=10, max_depth=90, total=   0.2s\n",
      "[CV] min_samples_split=10, max_depth=90 ..............................\n",
      "[CV] ............... min_samples_split=10, max_depth=90, total=   0.2s\n",
      "[CV] min_samples_split=2, max_depth=100 ..............................\n",
      "[CV] ............... min_samples_split=2, max_depth=100, total=   0.2s\n",
      "[CV] min_samples_split=2, max_depth=100 ..............................\n",
      "[CV] ............... min_samples_split=2, max_depth=100, total=   0.2s\n",
      "[CV] min_samples_split=2, max_depth=100 ..............................\n",
      "[CV] ............... min_samples_split=2, max_depth=100, total=   0.2s\n",
      "[CV] min_samples_split=2, max_depth=100 ..............................\n",
      "[CV] ............... min_samples_split=2, max_depth=100, total=   0.2s\n",
      "[CV] min_samples_split=2, max_depth=100 ..............................\n",
      "[CV] ............... min_samples_split=2, max_depth=100, total=   0.2s\n",
      "[CV] min_samples_split=5, max_depth=100 ..............................\n",
      "[CV] ............... min_samples_split=5, max_depth=100, total=   0.2s\n",
      "[CV] min_samples_split=5, max_depth=100 ..............................\n",
      "[CV] ............... min_samples_split=5, max_depth=100, total=   0.2s\n",
      "[CV] min_samples_split=5, max_depth=100 ..............................\n",
      "[CV] ............... min_samples_split=5, max_depth=100, total=   0.2s\n",
      "[CV] min_samples_split=5, max_depth=100 ..............................\n",
      "[CV] ............... min_samples_split=5, max_depth=100, total=   0.2s\n",
      "[CV] min_samples_split=5, max_depth=100 ..............................\n",
      "[CV] ............... min_samples_split=5, max_depth=100, total=   0.2s\n",
      "[CV] min_samples_split=10, max_depth=100 .............................\n",
      "[CV] .............. min_samples_split=10, max_depth=100, total=   0.2s\n",
      "[CV] min_samples_split=10, max_depth=100 .............................\n",
      "[CV] .............. min_samples_split=10, max_depth=100, total=   0.3s\n",
      "[CV] min_samples_split=10, max_depth=100 .............................\n",
      "[CV] .............. min_samples_split=10, max_depth=100, total=   0.2s\n",
      "[CV] min_samples_split=10, max_depth=100 .............................\n",
      "[CV] .............. min_samples_split=10, max_depth=100, total=   0.2s\n",
      "[CV] min_samples_split=10, max_depth=100 .............................\n",
      "[CV] .............. min_samples_split=10, max_depth=100, total=   0.2s\n",
      "[CV] min_samples_split=2, max_depth=110 ..............................\n",
      "[CV] ............... min_samples_split=2, max_depth=110, total=   0.2s\n",
      "[CV] min_samples_split=2, max_depth=110 ..............................\n",
      "[CV] ............... min_samples_split=2, max_depth=110, total=   0.2s\n",
      "[CV] min_samples_split=2, max_depth=110 ..............................\n",
      "[CV] ............... min_samples_split=2, max_depth=110, total=   0.2s\n",
      "[CV] min_samples_split=2, max_depth=110 ..............................\n",
      "[CV] ............... min_samples_split=2, max_depth=110, total=   0.2s\n",
      "[CV] min_samples_split=2, max_depth=110 ..............................\n",
      "[CV] ............... min_samples_split=2, max_depth=110, total=   0.2s\n",
      "[CV] min_samples_split=5, max_depth=110 ..............................\n",
      "[CV] ............... min_samples_split=5, max_depth=110, total=   0.2s\n",
      "[CV] min_samples_split=5, max_depth=110 ..............................\n",
      "[CV] ............... min_samples_split=5, max_depth=110, total=   0.2s\n",
      "[CV] min_samples_split=5, max_depth=110 ..............................\n",
      "[CV] ............... min_samples_split=5, max_depth=110, total=   0.1s\n",
      "[CV] min_samples_split=5, max_depth=110 ..............................\n",
      "[CV] ............... min_samples_split=5, max_depth=110, total=   0.1s\n",
      "[CV] min_samples_split=5, max_depth=110 ..............................\n",
      "[CV] ............... min_samples_split=5, max_depth=110, total=   0.1s\n",
      "[CV] min_samples_split=10, max_depth=110 .............................\n",
      "[CV] .............. min_samples_split=10, max_depth=110, total=   0.2s\n",
      "[CV] min_samples_split=10, max_depth=110 .............................\n",
      "[CV] .............. min_samples_split=10, max_depth=110, total=   0.2s\n",
      "[CV] min_samples_split=10, max_depth=110 .............................\n",
      "[CV] .............. min_samples_split=10, max_depth=110, total=   0.1s\n",
      "[CV] min_samples_split=10, max_depth=110 .............................\n",
      "[CV] .............. min_samples_split=10, max_depth=110, total=   0.2s\n",
      "[CV] min_samples_split=10, max_depth=110 .............................\n",
      "[CV] .............. min_samples_split=10, max_depth=110, total=   0.1s\n",
      "[CV] min_samples_split=2, max_depth=None .............................\n",
      "[CV] .............. min_samples_split=2, max_depth=None, total=   0.2s\n",
      "[CV] min_samples_split=2, max_depth=None .............................\n",
      "[CV] .............. min_samples_split=2, max_depth=None, total=   0.1s\n",
      "[CV] min_samples_split=2, max_depth=None .............................\n",
      "[CV] .............. min_samples_split=2, max_depth=None, total=   0.1s\n",
      "[CV] min_samples_split=2, max_depth=None .............................\n",
      "[CV] .............. min_samples_split=2, max_depth=None, total=   0.2s\n",
      "[CV] min_samples_split=2, max_depth=None .............................\n",
      "[CV] .............. min_samples_split=2, max_depth=None, total=   0.2s\n",
      "[CV] min_samples_split=5, max_depth=None .............................\n",
      "[CV] .............. min_samples_split=5, max_depth=None, total=   0.1s\n",
      "[CV] min_samples_split=5, max_depth=None .............................\n",
      "[CV] .............. min_samples_split=5, max_depth=None, total=   0.2s\n",
      "[CV] min_samples_split=5, max_depth=None .............................\n",
      "[CV] .............. min_samples_split=5, max_depth=None, total=   0.2s\n",
      "[CV] min_samples_split=5, max_depth=None .............................\n",
      "[CV] .............. min_samples_split=5, max_depth=None, total=   0.2s\n",
      "[CV] min_samples_split=5, max_depth=None .............................\n",
      "[CV] .............. min_samples_split=5, max_depth=None, total=   0.2s\n",
      "[CV] min_samples_split=10, max_depth=None ............................\n"
     ]
    },
    {
     "name": "stdout",
     "output_type": "stream",
     "text": [
      "[CV] ............. min_samples_split=10, max_depth=None, total=   0.2s\n",
      "[CV] min_samples_split=10, max_depth=None ............................\n",
      "[CV] ............. min_samples_split=10, max_depth=None, total=   0.2s\n",
      "[CV] min_samples_split=10, max_depth=None ............................\n",
      "[CV] ............. min_samples_split=10, max_depth=None, total=   0.3s\n",
      "[CV] min_samples_split=10, max_depth=None ............................\n",
      "[CV] ............. min_samples_split=10, max_depth=None, total=   0.2s\n",
      "[CV] min_samples_split=10, max_depth=None ............................\n",
      "[CV] ............. min_samples_split=10, max_depth=None, total=   0.2s\n"
     ]
    },
    {
     "name": "stderr",
     "output_type": "stream",
     "text": [
      "[Parallel(n_jobs=1)]: Done 180 out of 180 | elapsed:   56.7s finished\n"
     ]
    },
    {
     "data": {
      "text/plain": [
       "RandomizedSearchCV(cv=5, error_score='raise-deprecating',\n",
       "          estimator=DecisionTreeRegressor(criterion='mse', max_depth=None, max_features=None,\n",
       "           max_leaf_nodes=None, min_impurity_decrease=0.0,\n",
       "           min_impurity_split=None, min_samples_leaf=1,\n",
       "           min_samples_split=2, min_weight_fraction_leaf=0.0,\n",
       "           presort=False, random_state=100, splitter='best'),\n",
       "          fit_params=None, iid='warn', n_iter=50, n_jobs=None,\n",
       "          param_distributions={'max_depth': [10, 20, 30, 40, 50, 60, 70, 80, 90, 100, 110, None], 'min_samples_split': [2, 5, 10]},\n",
       "          pre_dispatch='2*n_jobs', random_state=100, refit=True,\n",
       "          return_train_score='warn', scoring=None, verbose=2)"
      ]
     },
     "execution_count": 114,
     "metadata": {},
     "output_type": "execute_result"
    }
   ],
   "source": [
    "dt_random = RandomizedSearchCV(estimator = dt_reg, param_distributions = random_grid1, n_iter = 50, cv = 5, verbose=2, random_state=100)\n",
    "# Fit the random search model\n",
    "dt_random.fit(X_train, Y_train)"
   ]
  },
  {
   "cell_type": "code",
   "execution_count": 115,
   "metadata": {},
   "outputs": [
    {
     "data": {
      "text/plain": [
       "DecisionTreeRegressor(criterion='mse', max_depth=20, max_features=None,\n",
       "           max_leaf_nodes=None, min_impurity_decrease=0.0,\n",
       "           min_impurity_split=None, min_samples_leaf=1,\n",
       "           min_samples_split=2, min_weight_fraction_leaf=0.0,\n",
       "           presort=False, random_state=100, splitter='best')"
      ]
     },
     "execution_count": 115,
     "metadata": {},
     "output_type": "execute_result"
    }
   ],
   "source": [
    "dt_reg_rand=dt_random.best_estimator_\n",
    "dt_reg_rand"
   ]
  },
  {
   "cell_type": "code",
   "execution_count": 116,
   "metadata": {},
   "outputs": [],
   "source": [
    "dt_reg_test_pred_rand=dt_reg_rand.predict(X_test)\n",
    "dt_reg_train_pred_rand=dt_reg_rand.predict(X_train)"
   ]
  },
  {
   "cell_type": "code",
   "execution_count": 117,
   "metadata": {},
   "outputs": [
    {
     "name": "stdout",
     "output_type": "stream",
     "text": [
      "DT R2 Train 0.9124536457070925\n",
      "DT R2 Test 0.9115706383256788\n"
     ]
    }
   ],
   "source": [
    "dt_rand_r2_score_train =r2_score(Y_train, dt_reg_train_pred_rand)\n",
    "print('DT R2 Train', dt_rand_r2_score_train)\n",
    "\n",
    "dt_rand_r2_score_test =r2_score(Y_test, dt_reg_test_pred_rand)\n",
    "print('DT R2 Test', dt_rand_r2_score_test)"
   ]
  },
  {
   "cell_type": "code",
   "execution_count": 118,
   "metadata": {},
   "outputs": [
    {
     "name": "stdout",
     "output_type": "stream",
     "text": [
      "DT MSE Train 53.69948408367773\n",
      "DT MSE Test 54.02966190406493\n"
     ]
    }
   ],
   "source": [
    "dt_rand_mse_train=mean_squared_error(Y_train, dt_reg_train_pred_rand)\n",
    "print('DT MSE Train', dt_rand_mse_train)\n",
    "\n",
    "dt_rand_mse_test=mean_squared_error(Y_test, dt_reg_test_pred_rand)\n",
    "print('DT MSE Test', dt_rand_mse_test)"
   ]
  },
  {
   "cell_type": "markdown",
   "metadata": {},
   "source": [
    "# Random Forest Regressor"
   ]
  },
  {
   "cell_type": "code",
   "execution_count": 119,
   "metadata": {},
   "outputs": [],
   "source": [
    "from sklearn.ensemble import RandomForestRegressor"
   ]
  },
  {
   "cell_type": "code",
   "execution_count": 120,
   "metadata": {},
   "outputs": [],
   "source": [
    "rf_reg = RandomForestRegressor(random_state=100, n_estimators=10, max_depth=15)"
   ]
  },
  {
   "cell_type": "code",
   "execution_count": 121,
   "metadata": {
    "scrolled": true
   },
   "outputs": [
    {
     "data": {
      "text/plain": [
       "RandomForestRegressor(bootstrap=True, criterion='mse', max_depth=15,\n",
       "           max_features='auto', max_leaf_nodes=None,\n",
       "           min_impurity_decrease=0.0, min_impurity_split=None,\n",
       "           min_samples_leaf=1, min_samples_split=2,\n",
       "           min_weight_fraction_leaf=0.0, n_estimators=10, n_jobs=None,\n",
       "           oob_score=False, random_state=100, verbose=0, warm_start=False)"
      ]
     },
     "execution_count": 121,
     "metadata": {},
     "output_type": "execute_result"
    }
   ],
   "source": [
    "rf_reg.fit(X_train, Y_train)"
   ]
  },
  {
   "cell_type": "code",
   "execution_count": 122,
   "metadata": {},
   "outputs": [],
   "source": [
    "rf_reg_test_predict = rf_reg.predict(X_test)\n",
    "rf_reg_train_predict = rf_reg.predict(X_train)"
   ]
  },
  {
   "cell_type": "code",
   "execution_count": 123,
   "metadata": {},
   "outputs": [
    {
     "name": "stdout",
     "output_type": "stream",
     "text": [
      "RF R2 Train 0.9122548959304626\n",
      "RF R2 Test 0.9113615052365909\n"
     ]
    }
   ],
   "source": [
    "rf_r2_score_train =r2_score(Y_train, rf_reg_train_predict)\n",
    "print ('RF R2 Train', rf_r2_score_train)\n",
    "\n",
    "rf_r2_score_test =r2_score(Y_test, rf_reg_test_predict)\n",
    "print ('RF R2 Test', rf_r2_score_test)"
   ]
  },
  {
   "cell_type": "code",
   "execution_count": 124,
   "metadata": {},
   "outputs": [
    {
     "name": "stdout",
     "output_type": "stream",
     "text": [
      "RF MSE Train 53.82139390565691\n",
      "RF MSE Test 54.15744061785891\n"
     ]
    }
   ],
   "source": [
    "rf_mse_train =mean_squared_error(Y_train, rf_reg_train_predict)\n",
    "print ('RF MSE Train', rf_mse_train)\n",
    "\n",
    "rf_mse_test =mean_squared_error(Y_test, rf_reg_test_predict)\n",
    "print ('RF MSE Test', rf_mse_test)"
   ]
  },
  {
   "cell_type": "markdown",
   "metadata": {},
   "source": [
    "# Ada Boost"
   ]
  },
  {
   "cell_type": "code",
   "execution_count": 125,
   "metadata": {},
   "outputs": [],
   "source": [
    "from sklearn.ensemble import AdaBoostRegressor"
   ]
  },
  {
   "cell_type": "markdown",
   "metadata": {},
   "source": [
    "Using tuned Decision Tree as base estimator"
   ]
  },
  {
   "cell_type": "code",
   "execution_count": 126,
   "metadata": {},
   "outputs": [
    {
     "data": {
      "text/plain": [
       "AdaBoostRegressor(base_estimator=DecisionTreeRegressor(criterion='mse', max_depth=20, max_features=None,\n",
       "           max_leaf_nodes=None, min_impurity_decrease=0.0,\n",
       "           min_impurity_split=None, min_samples_leaf=1,\n",
       "           min_samples_split=2, min_weight_fraction_leaf=0.0,\n",
       "           presort=False, random_state=100, splitter='best'),\n",
       "         learning_rate=1.0, loss='linear', n_estimators=100,\n",
       "         random_state=100)"
      ]
     },
     "execution_count": 126,
     "metadata": {},
     "output_type": "execute_result"
    }
   ],
   "source": [
    "adb_reg = AdaBoostRegressor(random_state=100,n_estimators=100, base_estimator=dt_reg_rand)\n",
    "adb_reg.fit(X_train, Y_train)"
   ]
  },
  {
   "cell_type": "code",
   "execution_count": 127,
   "metadata": {},
   "outputs": [],
   "source": [
    "adb_reg_test_predict=adb_reg.predict(X_test)\n",
    "adb_reg_train_predict=adb_reg.predict(X_train)"
   ]
  },
  {
   "cell_type": "code",
   "execution_count": 128,
   "metadata": {},
   "outputs": [
    {
     "name": "stdout",
     "output_type": "stream",
     "text": [
      "ADB R2 Train 0.870573205752031\n",
      "ADB R2 Test 0.8697524423836395\n"
     ]
    }
   ],
   "source": [
    "adb_r2_score_train =r2_score(Y_train, adb_reg_train_predict)\n",
    "print ('ADB R2 Train', adb_r2_score_train)\n",
    "\n",
    "adb_r2_score_test =r2_score(Y_test, adb_reg_test_predict)\n",
    "print ('ADB R2 Test', adb_r2_score_test)"
   ]
  },
  {
   "cell_type": "code",
   "execution_count": 129,
   "metadata": {
    "scrolled": true
   },
   "outputs": [
    {
     "name": "stdout",
     "output_type": "stream",
     "text": [
      "ADB MSE Train 79.38825247327638\n",
      "ADB MSE Test 79.58025896149485\n"
     ]
    }
   ],
   "source": [
    "adb_mse_train =mean_squared_error(Y_train, adb_reg_train_predict)\n",
    "print ('ADB MSE Train', adb_mse_train)\n",
    "\n",
    "adb_mse_test =mean_squared_error(Y_test, adb_reg_test_predict)\n",
    "print ('ADB MSE Test', adb_mse_test)"
   ]
  },
  {
   "cell_type": "markdown",
   "metadata": {},
   "source": [
    "# XGBoost"
   ]
  },
  {
   "cell_type": "code",
   "execution_count": 130,
   "metadata": {},
   "outputs": [],
   "source": [
    "import xgboost as xgb"
   ]
  },
  {
   "cell_type": "code",
   "execution_count": 131,
   "metadata": {},
   "outputs": [],
   "source": [
    "xgb_reg = xgb.XGBRFRegressor(seed=25,nthread=1,random_state=100, max_depth=25)"
   ]
  },
  {
   "cell_type": "code",
   "execution_count": 132,
   "metadata": {},
   "outputs": [
    {
     "name": "stderr",
     "output_type": "stream",
     "text": [
      "F:\\Anaconda3\\lib\\site-packages\\xgboost\\core.py:587: FutureWarning: Series.base is deprecated and will be removed in a future version\n",
      "  if getattr(data, 'base', None) is not None and \\\n"
     ]
    },
    {
     "name": "stdout",
     "output_type": "stream",
     "text": [
      "[17:38:33] WARNING: C:/Jenkins/workspace/xgboost-win64_release_0.90/src/objective/regression_obj.cu:152: reg:linear is now deprecated in favor of reg:squarederror.\n"
     ]
    },
    {
     "data": {
      "text/plain": [
       "XGBRFRegressor(base_score=0.5, colsample_bylevel=1, colsample_bynode=0.8,\n",
       "        colsample_bytree=1, gamma=0, learning_rate=1, max_delta_step=0,\n",
       "        max_depth=25, min_child_weight=1, missing=None, n_estimators=100,\n",
       "        n_jobs=1, nthread=1, objective='reg:linear', random_state=100,\n",
       "        reg_alpha=0, reg_lambda=1, scale_pos_weight=1, seed=25,\n",
       "        silent=None, subsample=0.8, verbosity=1)"
      ]
     },
     "execution_count": 132,
     "metadata": {},
     "output_type": "execute_result"
    }
   ],
   "source": [
    "xgb_reg.fit(X_train, Y_train)"
   ]
  },
  {
   "cell_type": "code",
   "execution_count": 133,
   "metadata": {},
   "outputs": [],
   "source": [
    "xgb_pred_test = xgb_reg.predict(X_test)\n",
    "xgb_pred_train = xgb_reg.predict(X_train)"
   ]
  },
  {
   "cell_type": "code",
   "execution_count": 134,
   "metadata": {},
   "outputs": [
    {
     "name": "stdout",
     "output_type": "stream",
     "text": [
      "XGB R2 Train 0.9087098859677194\n",
      "XGB R2 Test 0.9080558319557074\n"
     ]
    }
   ],
   "source": [
    "xgb_r2_score_train =r2_score(Y_train, xgb_pred_train)\n",
    "print ('XGB R2 Train', xgb_r2_score_train)\n",
    "\n",
    "xgb_r2_score_test =r2_score(Y_test, xgb_pred_test)\n",
    "print ('XGB R2 Test', xgb_r2_score_test)"
   ]
  },
  {
   "cell_type": "code",
   "execution_count": 135,
   "metadata": {},
   "outputs": [
    {
     "name": "stdout",
     "output_type": "stream",
     "text": [
      "XGB MSE Train 55.9958443166231\n",
      "XGB MSE Test 56.1771816444788\n"
     ]
    }
   ],
   "source": [
    "xgb_mse_train =mean_squared_error(Y_train, xgb_pred_train)\n",
    "print ('XGB MSE Train', xgb_mse_train)\n",
    "\n",
    "xgb_mse_test =mean_squared_error(Y_test, xgb_pred_test)\n",
    "print ('XGB MSE Test', xgb_mse_test)"
   ]
  },
  {
   "cell_type": "markdown",
   "metadata": {},
   "source": [
    "# Comparison"
   ]
  },
  {
   "cell_type": "code",
   "execution_count": 136,
   "metadata": {},
   "outputs": [],
   "source": [
    "comparison_dict={\"Algorithm\":[\"Linear Regression\",'Polynomial Degree 3','Decision Tree','Tuned DT',\"Random Forest\",\"Ada Boost\",\"XGB Boost\"],\n",
    "                 \"R2 Train\":[lr_r2_train,poly_r2_train,dt_r2_score_train,dt_rand_r2_score_train,rf_r2_score_train,adb_r2_score_train,xgb_r2_score_train],\n",
    "                 \"R2 Test\":[lr_r2_test,poly_r2_test,dt_r2_score_test,dt_rand_r2_score_test,rf_r2_score_test,adb_r2_score_test,xgb_r2_score_test],\n",
    "                 \"MSE Train\":[lr_mse_train,ploy_mse_train,dt_mse_train,dt_rand_mse_train,rf_mse_train,adb_mse_train,xgb_mse_train],\n",
    "                 \"MSE Test\":[lr_mse_test,poly_mse_test,dt_mse_test,dt_rand_mse_test,rf_mse_test,adb_mse_test,xgb_mse_test],\n",
    "                }"
   ]
  },
  {
   "cell_type": "code",
   "execution_count": 137,
   "metadata": {},
   "outputs": [
    {
     "data": {
      "text/html": [
       "<div>\n",
       "<style scoped>\n",
       "    .dataframe tbody tr th:only-of-type {\n",
       "        vertical-align: middle;\n",
       "    }\n",
       "\n",
       "    .dataframe tbody tr th {\n",
       "        vertical-align: top;\n",
       "    }\n",
       "\n",
       "    .dataframe thead th {\n",
       "        text-align: right;\n",
       "    }\n",
       "</style>\n",
       "<table border=\"1\" class=\"dataframe\">\n",
       "  <thead>\n",
       "    <tr style=\"text-align: right;\">\n",
       "      <th></th>\n",
       "      <th>Algorithm</th>\n",
       "      <th>R2 Train</th>\n",
       "      <th>R2 Test</th>\n",
       "      <th>MSE Train</th>\n",
       "      <th>MSE Test</th>\n",
       "    </tr>\n",
       "  </thead>\n",
       "  <tbody>\n",
       "    <tr>\n",
       "      <th>2</th>\n",
       "      <td>Decision Tree</td>\n",
       "      <td>0.912454</td>\n",
       "      <td>0.911571</td>\n",
       "      <td>53.699484</td>\n",
       "      <td>54.029662</td>\n",
       "    </tr>\n",
       "    <tr>\n",
       "      <th>3</th>\n",
       "      <td>Tuned DT</td>\n",
       "      <td>0.912454</td>\n",
       "      <td>0.911571</td>\n",
       "      <td>53.699484</td>\n",
       "      <td>54.029662</td>\n",
       "    </tr>\n",
       "    <tr>\n",
       "      <th>4</th>\n",
       "      <td>Random Forest</td>\n",
       "      <td>0.912255</td>\n",
       "      <td>0.911362</td>\n",
       "      <td>53.821394</td>\n",
       "      <td>54.157441</td>\n",
       "    </tr>\n",
       "    <tr>\n",
       "      <th>6</th>\n",
       "      <td>XGB Boost</td>\n",
       "      <td>0.908710</td>\n",
       "      <td>0.908056</td>\n",
       "      <td>55.995844</td>\n",
       "      <td>56.177182</td>\n",
       "    </tr>\n",
       "    <tr>\n",
       "      <th>5</th>\n",
       "      <td>Ada Boost</td>\n",
       "      <td>0.870573</td>\n",
       "      <td>0.869752</td>\n",
       "      <td>79.388252</td>\n",
       "      <td>79.580259</td>\n",
       "    </tr>\n",
       "    <tr>\n",
       "      <th>1</th>\n",
       "      <td>Polynomial Degree 3</td>\n",
       "      <td>0.868282</td>\n",
       "      <td>0.866013</td>\n",
       "      <td>80.793804</td>\n",
       "      <td>81.865261</td>\n",
       "    </tr>\n",
       "    <tr>\n",
       "      <th>0</th>\n",
       "      <td>Linear Regression</td>\n",
       "      <td>0.730110</td>\n",
       "      <td>0.735442</td>\n",
       "      <td>165.546302</td>\n",
       "      <td>161.642906</td>\n",
       "    </tr>\n",
       "  </tbody>\n",
       "</table>\n",
       "</div>"
      ],
      "text/plain": [
       "             Algorithm  R2 Train   R2 Test   MSE Train    MSE Test\n",
       "2        Decision Tree  0.912454  0.911571   53.699484   54.029662\n",
       "3             Tuned DT  0.912454  0.911571   53.699484   54.029662\n",
       "4        Random Forest  0.912255  0.911362   53.821394   54.157441\n",
       "6            XGB Boost  0.908710  0.908056   55.995844   56.177182\n",
       "5            Ada Boost  0.870573  0.869752   79.388252   79.580259\n",
       "1  Polynomial Degree 3  0.868282  0.866013   80.793804   81.865261\n",
       "0    Linear Regression  0.730110  0.735442  165.546302  161.642906"
      ]
     },
     "execution_count": 137,
     "metadata": {},
     "output_type": "execute_result"
    }
   ],
   "source": [
    "comparison=pd.DataFrame(comparison_dict)\n",
    "comparison.sort_values(['R2 Test','MSE Test'], ascending=False)"
   ]
  },
  {
   "cell_type": "markdown",
   "metadata": {},
   "source": [
    "# Conclusion"
   ]
  },
  {
   "cell_type": "markdown",
   "metadata": {},
   "source": [
    "From the above table we can say that Decision Tree, Tuned Decision Tree, Random Forest works best for predicting ticket prices given the data, as R2 score for these models is high and MSE is low."
   ]
  }
 ],
 "metadata": {
  "kernelspec": {
   "display_name": "Python 3",
   "language": "python",
   "name": "python3"
  },
  "language_info": {
   "codemirror_mode": {
    "name": "ipython",
    "version": 3
   },
   "file_extension": ".py",
   "mimetype": "text/x-python",
   "name": "python",
   "nbconvert_exporter": "python",
   "pygments_lexer": "ipython3",
   "version": "3.7.1"
  }
 },
 "nbformat": 4,
 "nbformat_minor": 2
}
